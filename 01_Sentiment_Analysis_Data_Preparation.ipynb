{
 "cells": [
  {
   "cell_type": "markdown",
   "metadata": {},
   "source": [
    "# Data Preparation"
   ]
  },
  {
   "cell_type": "markdown",
   "metadata": {},
   "source": [
    "Download the dataset from the given link "
   ]
  },
  {
   "cell_type": "markdown",
   "metadata": {},
   "source": [
    "www.kaggle.com/alizeb/politics-tweets"
   ]
  },
  {
   "cell_type": "markdown",
   "metadata": {},
   "source": [
    "## First look at the data"
   ]
  },
  {
   "cell_type": "code",
   "execution_count": 1,
   "metadata": {},
   "outputs": [],
   "source": [
    "import pandas as pd  \n",
    "import numpy as np\n",
    "import matplotlib.pyplot as plt\n",
    "plt.style.use('fivethirtyeight')\n",
    "\n",
    "%matplotlib inline\n",
    "%config InlineBackend.figure_format = 'retina'"
   ]
  },
  {
   "cell_type": "markdown",
   "metadata": {},
   "source": [
    "First, columns names have been assigned to each column."
   ]
  },
  {
   "cell_type": "code",
   "execution_count": 3,
   "metadata": {
    "collapsed": true
   },
   "outputs": [],
   "source": [
    "cols = ['sentiment','id','date','query_string','user','text']"
   ]
  },
  {
   "cell_type": "code",
   "execution_count": 6,
   "metadata": {},
   "outputs": [
    {
     "name": "stdout",
     "output_type": "stream",
     "text": [
      "(966201, 12)\n"
     ]
    },
    {
     "name": "stderr",
     "output_type": "stream",
     "text": [
      "/home/alizeb/.local/lib/python3.5/site-packages/IPython/core/interactiveshell.py:2785: DtypeWarning: Columns (9,10) have mixed types. Specify dtype option on import or set low_memory=False.\n",
      "  interactivity=interactivity, compiler=compiler, result=result)\n"
     ]
    }
   ],
   "source": [
    "df = pd.read_csv('../datasets/combined/data/all_tweets/tweets1.csv', encoding='latin-1')\n",
    "print(df.shape)"
   ]
  },
  {
   "cell_type": "code",
   "execution_count": 5,
   "metadata": {},
   "outputs": [],
   "source": [
    "df.to_csv('../datasets/combined/data/all_tweets/tweets1.csv', index=False)"
   ]
  },
  {
   "cell_type": "code",
   "execution_count": 7,
   "metadata": {},
   "outputs": [
    {
     "data": {
      "text/html": [
       "<div>\n",
       "<style scoped>\n",
       "    .dataframe tbody tr th:only-of-type {\n",
       "        vertical-align: middle;\n",
       "    }\n",
       "\n",
       "    .dataframe tbody tr th {\n",
       "        vertical-align: top;\n",
       "    }\n",
       "\n",
       "    .dataframe thead th {\n",
       "        text-align: right;\n",
       "    }\n",
       "</style>\n",
       "<table border=\"1\" class=\"dataframe\">\n",
       "  <thead>\n",
       "    <tr style=\"text-align: right;\">\n",
       "      <th></th>\n",
       "      <th>Unnamed: 0</th>\n",
       "      <th>Unnamed: 0.1</th>\n",
       "      <th>id</th>\n",
       "      <th>created</th>\n",
       "      <th>text</th>\n",
       "      <th>username</th>\n",
       "      <th>name</th>\n",
       "      <th>category</th>\n",
       "      <th>lang</th>\n",
       "      <th>retweets</th>\n",
       "      <th>likes</th>\n",
       "      <th>replies</th>\n",
       "    </tr>\n",
       "  </thead>\n",
       "  <tbody>\n",
       "    <tr>\n",
       "      <th>0</th>\n",
       "      <td>0</td>\n",
       "      <td>0</td>\n",
       "      <td>9.030243e+17</td>\n",
       "      <td>2017-08-30T22:39:01</td>\n",
       "      <td>people will give #panamaVerdict in NA_120 elec...</td>\n",
       "      <td>on_drive</td>\n",
       "      <td>AMAN tells</td>\n",
       "      <td>panama_verdict</td>\n",
       "      <td>en</td>\n",
       "      <td>0</td>\n",
       "      <td>0</td>\n",
       "      <td>0.0</td>\n",
       "    </tr>\n",
       "    <tr>\n",
       "      <th>1</th>\n",
       "      <td>1</td>\n",
       "      <td>1</td>\n",
       "      <td>9.029942e+17</td>\n",
       "      <td>2017-08-30T20:39:30</td>\n",
       "      <td>U r just a barking dog. Where did Panama expos...</td>\n",
       "      <td>Unkindly_Kind</td>\n",
       "      <td>M@jid</td>\n",
       "      <td>panama_verdict</td>\n",
       "      <td>en</td>\n",
       "      <td>0</td>\n",
       "      <td>0</td>\n",
       "      <td>0.0</td>\n",
       "    </tr>\n",
       "    <tr>\n",
       "      <th>2</th>\n",
       "      <td>2</td>\n",
       "      <td>2</td>\n",
       "      <td>9.029910e+17</td>\n",
       "      <td>2017-08-30T20:26:44</td>\n",
       "      <td>It is clear from Maryam Nawaz's bitter NA-120 ...</td>\n",
       "      <td>zartajgulwazir</td>\n",
       "      <td>Zartaj Gul wazir</td>\n",
       "      <td>panama_verdict</td>\n",
       "      <td>en</td>\n",
       "      <td>75</td>\n",
       "      <td>387</td>\n",
       "      <td>0.0</td>\n",
       "    </tr>\n",
       "    <tr>\n",
       "      <th>3</th>\n",
       "      <td>3</td>\n",
       "      <td>3</td>\n",
       "      <td>9.029909e+17</td>\n",
       "      <td>2017-08-30T20:26:27</td>\n",
       "      <td>NAB References triggered by Panama verdict are...</td>\n",
       "      <td>zartajgulwazir</td>\n",
       "      <td>Zartaj Gul wazir</td>\n",
       "      <td>panama_verdict</td>\n",
       "      <td>en</td>\n",
       "      <td>85</td>\n",
       "      <td>299</td>\n",
       "      <td>0.0</td>\n",
       "    </tr>\n",
       "    <tr>\n",
       "      <th>4</th>\n",
       "      <td>4</td>\n",
       "      <td>4</td>\n",
       "      <td>9.029907e+17</td>\n",
       "      <td>2017-08-30T20:25:42</td>\n",
       "      <td>Jaise motu gang k saath hua tha, he didn't acc...</td>\n",
       "      <td>NomanChaudhry8</td>\n",
       "      <td>Noman Chaudhry</td>\n",
       "      <td>panama_verdict</td>\n",
       "      <td>en</td>\n",
       "      <td>0</td>\n",
       "      <td>1</td>\n",
       "      <td>0.0</td>\n",
       "    </tr>\n",
       "  </tbody>\n",
       "</table>\n",
       "</div>"
      ],
      "text/plain": [
       "   Unnamed: 0  Unnamed: 0.1            id              created  \\\n",
       "0           0             0  9.030243e+17  2017-08-30T22:39:01   \n",
       "1           1             1  9.029942e+17  2017-08-30T20:39:30   \n",
       "2           2             2  9.029910e+17  2017-08-30T20:26:44   \n",
       "3           3             3  9.029909e+17  2017-08-30T20:26:27   \n",
       "4           4             4  9.029907e+17  2017-08-30T20:25:42   \n",
       "\n",
       "                                                text        username  \\\n",
       "0  people will give #panamaVerdict in NA_120 elec...        on_drive   \n",
       "1  U r just a barking dog. Where did Panama expos...   Unkindly_Kind   \n",
       "2  It is clear from Maryam Nawaz's bitter NA-120 ...  zartajgulwazir   \n",
       "3  NAB References triggered by Panama verdict are...  zartajgulwazir   \n",
       "4  Jaise motu gang k saath hua tha, he didn't acc...  NomanChaudhry8   \n",
       "\n",
       "               name        category lang retweets likes  replies  \n",
       "0        AMAN tells  panama_verdict   en        0     0      0.0  \n",
       "1             M@jid  panama_verdict   en        0     0      0.0  \n",
       "2  Zartaj Gul wazir  panama_verdict   en       75   387      0.0  \n",
       "3  Zartaj Gul wazir  panama_verdict   en       85   299      0.0  \n",
       "4    Noman Chaudhry  panama_verdict   en        0     1      0.0  "
      ]
     },
     "execution_count": 7,
     "metadata": {},
     "output_type": "execute_result"
    }
   ],
   "source": [
    "df.head()"
   ]
  },
  {
   "cell_type": "code",
   "execution_count": 11,
   "metadata": {},
   "outputs": [
    {
     "data": {
      "text/html": [
       "<div>\n",
       "<style scoped>\n",
       "    .dataframe tbody tr th:only-of-type {\n",
       "        vertical-align: middle;\n",
       "    }\n",
       "\n",
       "    .dataframe tbody tr th {\n",
       "        vertical-align: top;\n",
       "    }\n",
       "\n",
       "    .dataframe thead th {\n",
       "        text-align: right;\n",
       "    }\n",
       "</style>\n",
       "<table border=\"1\" class=\"dataframe\">\n",
       "  <thead>\n",
       "    <tr style=\"text-align: right;\">\n",
       "      <th></th>\n",
       "      <th>id</th>\n",
       "      <th>created</th>\n",
       "      <th>text</th>\n",
       "      <th>username</th>\n",
       "      <th>name</th>\n",
       "      <th>category</th>\n",
       "      <th>lang</th>\n",
       "      <th>retweets</th>\n",
       "      <th>likes</th>\n",
       "      <th>replies</th>\n",
       "    </tr>\n",
       "  </thead>\n",
       "  <tbody>\n",
       "    <tr>\n",
       "      <th>0</th>\n",
       "      <td>9.030243e+17</td>\n",
       "      <td>2017-08-30T22:39:01</td>\n",
       "      <td>people will give #panamaVerdict in NA_120 elec...</td>\n",
       "      <td>on_drive</td>\n",
       "      <td>AMAN tells</td>\n",
       "      <td>panama_verdict</td>\n",
       "      <td>en</td>\n",
       "      <td>0</td>\n",
       "      <td>0</td>\n",
       "      <td>0.0</td>\n",
       "    </tr>\n",
       "    <tr>\n",
       "      <th>1</th>\n",
       "      <td>9.029942e+17</td>\n",
       "      <td>2017-08-30T20:39:30</td>\n",
       "      <td>U r just a barking dog. Where did Panama expos...</td>\n",
       "      <td>Unkindly_Kind</td>\n",
       "      <td>M@jid</td>\n",
       "      <td>panama_verdict</td>\n",
       "      <td>en</td>\n",
       "      <td>0</td>\n",
       "      <td>0</td>\n",
       "      <td>0.0</td>\n",
       "    </tr>\n",
       "    <tr>\n",
       "      <th>2</th>\n",
       "      <td>9.029910e+17</td>\n",
       "      <td>2017-08-30T20:26:44</td>\n",
       "      <td>It is clear from Maryam Nawaz's bitter NA-120 ...</td>\n",
       "      <td>zartajgulwazir</td>\n",
       "      <td>Zartaj Gul wazir</td>\n",
       "      <td>panama_verdict</td>\n",
       "      <td>en</td>\n",
       "      <td>75</td>\n",
       "      <td>387</td>\n",
       "      <td>0.0</td>\n",
       "    </tr>\n",
       "    <tr>\n",
       "      <th>3</th>\n",
       "      <td>9.029909e+17</td>\n",
       "      <td>2017-08-30T20:26:27</td>\n",
       "      <td>NAB References triggered by Panama verdict are...</td>\n",
       "      <td>zartajgulwazir</td>\n",
       "      <td>Zartaj Gul wazir</td>\n",
       "      <td>panama_verdict</td>\n",
       "      <td>en</td>\n",
       "      <td>85</td>\n",
       "      <td>299</td>\n",
       "      <td>0.0</td>\n",
       "    </tr>\n",
       "    <tr>\n",
       "      <th>4</th>\n",
       "      <td>9.029907e+17</td>\n",
       "      <td>2017-08-30T20:25:42</td>\n",
       "      <td>Jaise motu gang k saath hua tha, he didn't acc...</td>\n",
       "      <td>NomanChaudhry8</td>\n",
       "      <td>Noman Chaudhry</td>\n",
       "      <td>panama_verdict</td>\n",
       "      <td>en</td>\n",
       "      <td>0</td>\n",
       "      <td>1</td>\n",
       "      <td>0.0</td>\n",
       "    </tr>\n",
       "    <tr>\n",
       "      <th>5</th>\n",
       "      <td>9.029853e+17</td>\n",
       "      <td>2017-08-30T20:04:15</td>\n",
       "      <td>Salute to Judges like Justice Asif Saeed Khosa...</td>\n",
       "      <td>Parley_JD</td>\n",
       "      <td>Acrophile</td>\n",
       "      <td>panama_verdict</td>\n",
       "      <td>en</td>\n",
       "      <td>0</td>\n",
       "      <td>0</td>\n",
       "      <td>0.0</td>\n",
       "    </tr>\n",
       "    <tr>\n",
       "      <th>6</th>\n",
       "      <td>9.029711e+17</td>\n",
       "      <td>2017-08-30T19:07:42</td>\n",
       "      <td>SHOW ME THE MONEY ! #panamaverdict http://bit....</td>\n",
       "      <td>zakrana</td>\n",
       "      <td>z.khan</td>\n",
       "      <td>panama_verdict</td>\n",
       "      <td>en</td>\n",
       "      <td>0</td>\n",
       "      <td>0</td>\n",
       "      <td>0.0</td>\n",
       "    </tr>\n",
       "    <tr>\n",
       "      <th>7</th>\n",
       "      <td>9.029673e+17</td>\n",
       "      <td>2017-08-30T18:52:29</td>\n",
       "      <td>Tum to thahre pardesi saath kia nibhao gay.......</td>\n",
       "      <td>HashimZia_KH</td>\n",
       "      <td>HASHIM ZIA</td>\n",
       "      <td>panama_verdict</td>\n",
       "      <td>en</td>\n",
       "      <td>0</td>\n",
       "      <td>1</td>\n",
       "      <td>0.0</td>\n",
       "    </tr>\n",
       "    <tr>\n",
       "      <th>8</th>\n",
       "      <td>9.029355e+17</td>\n",
       "      <td>2017-08-30T16:46:15</td>\n",
       "      <td>@MaryamNSharif ma'am why u and ur family are h...</td>\n",
       "      <td>faheemahmadengr</td>\n",
       "      <td>faheemahmad</td>\n",
       "      <td>panama_verdict</td>\n",
       "      <td>en</td>\n",
       "      <td>0</td>\n",
       "      <td>0</td>\n",
       "      <td>0.0</td>\n",
       "    </tr>\n",
       "    <tr>\n",
       "      <th>9</th>\n",
       "      <td>9.029342e+17</td>\n",
       "      <td>2017-08-30T16:40:55</td>\n",
       "      <td>After hearing his remarks in panama case..and ...</td>\n",
       "      <td>farahs_6</td>\n",
       "      <td>Farah Sohail</td>\n",
       "      <td>panama_verdict</td>\n",
       "      <td>en</td>\n",
       "      <td>0</td>\n",
       "      <td>0</td>\n",
       "      <td>0.0</td>\n",
       "    </tr>\n",
       "    <tr>\n",
       "      <th>10</th>\n",
       "      <td>9.029267e+17</td>\n",
       "      <td>2017-08-30T16:11:13</td>\n",
       "      <td>#StopAttackingJudiciary\\n#Trump\\n#IndiaLostPML...</td>\n",
       "      <td>shoaibahmedsa</td>\n",
       "      <td>Shoaib Ahmed_SA</td>\n",
       "      <td>panama_verdict</td>\n",
       "      <td>en</td>\n",
       "      <td>1</td>\n",
       "      <td>0</td>\n",
       "      <td>0.0</td>\n",
       "    </tr>\n",
       "    <tr>\n",
       "      <th>11</th>\n",
       "      <td>9.029261e+17</td>\n",
       "      <td>2017-08-30T16:08:58</td>\n",
       "      <td>#StopAttackingJudiciary\\n#Trump\\n#IndiaLostPML...</td>\n",
       "      <td>shoaibahmedsa</td>\n",
       "      <td>Shoaib Ahmed_SA</td>\n",
       "      <td>panama_verdict</td>\n",
       "      <td>en</td>\n",
       "      <td>0</td>\n",
       "      <td>1</td>\n",
       "      <td>0.0</td>\n",
       "    </tr>\n",
       "    <tr>\n",
       "      <th>12</th>\n",
       "      <td>9.029259e+17</td>\n",
       "      <td>2017-08-30T16:08:07</td>\n",
       "      <td>#StopAttackingJudiciary\\n#Trump\\n#IndiaLostPML...</td>\n",
       "      <td>shoaibahmedsa</td>\n",
       "      <td>Shoaib Ahmed_SA</td>\n",
       "      <td>panama_verdict</td>\n",
       "      <td>en</td>\n",
       "      <td>0</td>\n",
       "      <td>1</td>\n",
       "      <td>0.0</td>\n",
       "    </tr>\n",
       "    <tr>\n",
       "      <th>13</th>\n",
       "      <td>9.029258e+17</td>\n",
       "      <td>2017-08-30T16:07:34</td>\n",
       "      <td>#StopAttackingJudiciary\\n#Trump\\n#IndiaLostPML...</td>\n",
       "      <td>shoaibahmedsa</td>\n",
       "      <td>Shoaib Ahmed_SA</td>\n",
       "      <td>panama_verdict</td>\n",
       "      <td>en</td>\n",
       "      <td>0</td>\n",
       "      <td>0</td>\n",
       "      <td>0.0</td>\n",
       "    </tr>\n",
       "    <tr>\n",
       "      <th>14</th>\n",
       "      <td>9.029250e+17</td>\n",
       "      <td>2017-08-30T16:04:26</td>\n",
       "      <td>#StopAttackingJudiciary\\n#Trump\\n#IndiaLostPML...</td>\n",
       "      <td>shoaibahmedsa</td>\n",
       "      <td>Shoaib Ahmed_SA</td>\n",
       "      <td>panama_verdict</td>\n",
       "      <td>en</td>\n",
       "      <td>0</td>\n",
       "      <td>0</td>\n",
       "      <td>0.0</td>\n",
       "    </tr>\n",
       "    <tr>\n",
       "      <th>15</th>\n",
       "      <td>9.029231e+17</td>\n",
       "      <td>2017-08-30T15:57:06</td>\n",
       "      <td>#StopAttackingJudiciary\\n#Trump\\n#IndiaLostPML...</td>\n",
       "      <td>shoaibahmedsa</td>\n",
       "      <td>Shoaib Ahmed_SA</td>\n",
       "      <td>panama_verdict</td>\n",
       "      <td>en</td>\n",
       "      <td>0</td>\n",
       "      <td>1</td>\n",
       "      <td>0.0</td>\n",
       "    </tr>\n",
       "    <tr>\n",
       "      <th>16</th>\n",
       "      <td>9.029223e+17</td>\n",
       "      <td>2017-08-30T15:53:56</td>\n",
       "      <td>ÃÂÃÂÃÂÃÂÃÂÃÂÃÂÃÂÃÂÃÂÃÂÃ...</td>\n",
       "      <td>Atiq_SA</td>\n",
       "      <td>Atiq</td>\n",
       "      <td>panama_verdict</td>\n",
       "      <td>en</td>\n",
       "      <td>1</td>\n",
       "      <td>2</td>\n",
       "      <td>0.0</td>\n",
       "    </tr>\n",
       "    <tr>\n",
       "      <th>17</th>\n",
       "      <td>9.029221e+17</td>\n",
       "      <td>2017-08-30T15:52:56</td>\n",
       "      <td>#StopAttackingJudiciary\\n#Trump\\n#IndiaLostPML...</td>\n",
       "      <td>shoaibahmedsa</td>\n",
       "      <td>Shoaib Ahmed_SA</td>\n",
       "      <td>panama_verdict</td>\n",
       "      <td>en</td>\n",
       "      <td>1</td>\n",
       "      <td>2</td>\n",
       "      <td>0.0</td>\n",
       "    </tr>\n",
       "    <tr>\n",
       "      <th>18</th>\n",
       "      <td>9.029146e+17</td>\n",
       "      <td>2017-08-30T15:23:04</td>\n",
       "      <td>#DramaSharif\\n@PTIOfficialRWP \\nMay b the Pana...</td>\n",
       "      <td>ParishYZ</td>\n",
       "      <td>Parizaad</td>\n",
       "      <td>panama_verdict</td>\n",
       "      <td>en</td>\n",
       "      <td>2</td>\n",
       "      <td>3</td>\n",
       "      <td>0.0</td>\n",
       "    </tr>\n",
       "    <tr>\n",
       "      <th>19</th>\n",
       "      <td>9.029119e+17</td>\n",
       "      <td>2017-08-30T15:12:30</td>\n",
       "      <td>#PanamaPapers part two, and in Mandarin this t...</td>\n",
       "      <td>kasyed</td>\n",
       "      <td>Kulsoom Ali Syed</td>\n",
       "      <td>panama_verdict</td>\n",
       "      <td>en</td>\n",
       "      <td>1</td>\n",
       "      <td>0</td>\n",
       "      <td>0.0</td>\n",
       "    </tr>\n",
       "    <tr>\n",
       "      <th>20</th>\n",
       "      <td>9.029061e+17</td>\n",
       "      <td>2017-08-30T14:49:28</td>\n",
       "      <td>Pray for Justice Khosa.\\n#JusticeKhosa\\n#OurHe...</td>\n",
       "      <td>Faisalghafoor13</td>\n",
       "      <td>Faisal Ghafoor</td>\n",
       "      <td>panama_verdict</td>\n",
       "      <td>en</td>\n",
       "      <td>0</td>\n",
       "      <td>0</td>\n",
       "      <td>0.0</td>\n",
       "    </tr>\n",
       "    <tr>\n",
       "      <th>21</th>\n",
       "      <td>9.029020e+17</td>\n",
       "      <td>2017-08-30T14:32:55</td>\n",
       "      <td>@Shahidmasooddr  Is The Button looks like this...</td>\n",
       "      <td>FizaSheikh36</td>\n",
       "      <td>ÃÂÃÂÃÂÃÂÃÂÃÂÃÂÃÂ­ÃÂÃÂÃÂÃ...</td>\n",
       "      <td>panama_verdict</td>\n",
       "      <td>en</td>\n",
       "      <td>0</td>\n",
       "      <td>0</td>\n",
       "      <td>0.0</td>\n",
       "    </tr>\n",
       "    <tr>\n",
       "      <th>22</th>\n",
       "      <td>9.028934e+17</td>\n",
       "      <td>2017-08-30T13:58:46</td>\n",
       "      <td>ÃÂÃÂÃÂÃÂÃÂÃÂÃÂÃÂÃÂÃÂÃÂÃ...</td>\n",
       "      <td>AsimDunyaTv</td>\n",
       "      <td>AsimHameed</td>\n",
       "      <td>panama_verdict</td>\n",
       "      <td>en</td>\n",
       "      <td>0</td>\n",
       "      <td>0</td>\n",
       "      <td>0.0</td>\n",
       "    </tr>\n",
       "    <tr>\n",
       "      <th>23</th>\n",
       "      <td>9.028788e+17</td>\n",
       "      <td>2017-08-30T13:00:51</td>\n",
       "      <td>#NA120WelcomesMaryam  #PanamaVerdict pic.twitt...</td>\n",
       "      <td>PoliticalThugs</td>\n",
       "      <td>Ayla Malik</td>\n",
       "      <td>panama_verdict</td>\n",
       "      <td>en</td>\n",
       "      <td>7</td>\n",
       "      <td>16</td>\n",
       "      <td>0.0</td>\n",
       "    </tr>\n",
       "    <tr>\n",
       "      <th>24</th>\n",
       "      <td>9.028738e+17</td>\n",
       "      <td>2017-08-30T12:40:53</td>\n",
       "      <td>NAB has destroyed institutions say #SupremeCou...</td>\n",
       "      <td>QureshiAsadAli</td>\n",
       "      <td>Asad Qureshi</td>\n",
       "      <td>panama_verdict</td>\n",
       "      <td>en</td>\n",
       "      <td>1</td>\n",
       "      <td>1</td>\n",
       "      <td>0.0</td>\n",
       "    </tr>\n",
       "    <tr>\n",
       "      <th>25</th>\n",
       "      <td>9.028632e+17</td>\n",
       "      <td>2017-08-30T11:59:04</td>\n",
       "      <td>A shell company at that, which was used as a v...</td>\n",
       "      <td>salarlamar</td>\n",
       "      <td>salar lamar</td>\n",
       "      <td>panama_verdict</td>\n",
       "      <td>en</td>\n",
       "      <td>0</td>\n",
       "      <td>0</td>\n",
       "      <td>0.0</td>\n",
       "    </tr>\n",
       "    <tr>\n",
       "      <th>26</th>\n",
       "      <td>9.028577e+17</td>\n",
       "      <td>2017-08-30T11:37:03</td>\n",
       "      <td>IK's philosophical words on the eve of the Pan...</td>\n",
       "      <td>MirzaGhalib786</td>\n",
       "      <td>Mirza Ghalib</td>\n",
       "      <td>panama_verdict</td>\n",
       "      <td>en</td>\n",
       "      <td>1</td>\n",
       "      <td>1</td>\n",
       "      <td>0.0</td>\n",
       "    </tr>\n",
       "    <tr>\n",
       "      <th>27</th>\n",
       "      <td>9.028531e+17</td>\n",
       "      <td>2017-08-30T11:18:41</td>\n",
       "      <td>forced by his family/friends to resign on time...</td>\n",
       "      <td>arslanrehmanpak</td>\n",
       "      <td>Arslan Rana</td>\n",
       "      <td>panama_verdict</td>\n",
       "      <td>en</td>\n",
       "      <td>0</td>\n",
       "      <td>0</td>\n",
       "      <td>0.0</td>\n",
       "    </tr>\n",
       "    <tr>\n",
       "      <th>28</th>\n",
       "      <td>9.028466e+17</td>\n",
       "      <td>2017-08-30T10:53:09</td>\n",
       "      <td>Does the #Panama verdict need to be reviewed? ...</td>\n",
       "      <td>sr_analysis</td>\n",
       "      <td>Spearhead Research</td>\n",
       "      <td>panama_verdict</td>\n",
       "      <td>en</td>\n",
       "      <td>1</td>\n",
       "      <td>1</td>\n",
       "      <td>0.0</td>\n",
       "    </tr>\n",
       "    <tr>\n",
       "      <th>29</th>\n",
       "      <td>9.028466e+17</td>\n",
       "      <td>2017-08-30T10:53:09</td>\n",
       "      <td>Does the #Panama verdict need to be reviewed? ...</td>\n",
       "      <td>sr_updates</td>\n",
       "      <td>Spearhead Research</td>\n",
       "      <td>panama_verdict</td>\n",
       "      <td>en</td>\n",
       "      <td>1</td>\n",
       "      <td>2</td>\n",
       "      <td>0.0</td>\n",
       "    </tr>\n",
       "    <tr>\n",
       "      <th>...</th>\n",
       "      <td>...</td>\n",
       "      <td>...</td>\n",
       "      <td>...</td>\n",
       "      <td>...</td>\n",
       "      <td>...</td>\n",
       "      <td>...</td>\n",
       "      <td>...</td>\n",
       "      <td>...</td>\n",
       "      <td>...</td>\n",
       "      <td>...</td>\n",
       "    </tr>\n",
       "    <tr>\n",
       "      <th>966171</th>\n",
       "      <td>9.046974e+17</td>\n",
       "      <td>2017-09-04T13:27:23</td>\n",
       "      <td>Please don't lose KPK too due to dengue. PTI i...</td>\n",
       "      <td>helloworld1976</td>\n",
       "      <td>helloworld1976</td>\n",
       "      <td>dengue</td>\n",
       "      <td>en</td>\n",
       "      <td>0</td>\n",
       "      <td>0</td>\n",
       "      <td>0.0</td>\n",
       "    </tr>\n",
       "    <tr>\n",
       "      <th>966172</th>\n",
       "      <td>9.046975e+17</td>\n",
       "      <td>2017-09-04T13:27:39</td>\n",
       "      <td>@ArvindKejriwal MCD wale kaam nhi krte. Dengue...</td>\n",
       "      <td>anilchauhan70</td>\n",
       "      <td>ANIL CHAUHAN</td>\n",
       "      <td>dengue</td>\n",
       "      <td>en</td>\n",
       "      <td>0</td>\n",
       "      <td>0</td>\n",
       "      <td>0.0</td>\n",
       "    </tr>\n",
       "    <tr>\n",
       "      <th>966173</th>\n",
       "      <td>9.046975e+17</td>\n",
       "      <td>2017-09-04T13:27:57</td>\n",
       "      <td>Good solution for Dengue patients of KPK .</td>\n",
       "      <td>Tqshahid</td>\n",
       "      <td>Tanveer Qaisar</td>\n",
       "      <td>dengue</td>\n",
       "      <td>en</td>\n",
       "      <td>0</td>\n",
       "      <td>0</td>\n",
       "      <td>0.0</td>\n",
       "    </tr>\n",
       "    <tr>\n",
       "      <th>966174</th>\n",
       "      <td>9.046988e+17</td>\n",
       "      <td>2017-09-04T13:32:56</td>\n",
       "      <td>ÃÂÃÂÃÂÃÂ ÃÂÃÂÃÂÃÂ¤ÃÂÃÂÃÂÃ...</td>\n",
       "      <td>IamSonu_Yadav</td>\n",
       "      <td>Sonu Yadav</td>\n",
       "      <td>dengue</td>\n",
       "      <td>en</td>\n",
       "      <td>1</td>\n",
       "      <td>0</td>\n",
       "      <td>0.0</td>\n",
       "    </tr>\n",
       "    <tr>\n",
       "      <th>966175</th>\n",
       "      <td>9.046994e+17</td>\n",
       "      <td>2017-09-04T13:35:30</td>\n",
       "      <td>Wait...\\n\\nSir ji is going to earn the divine ...</td>\n",
       "      <td>pashyantii</td>\n",
       "      <td>Pashyanti Shukla'ÃÂÃÂÃÂÃÂ ÃÂÃÂÃÂÃ...</td>\n",
       "      <td>dengue</td>\n",
       "      <td>en</td>\n",
       "      <td>2</td>\n",
       "      <td>3</td>\n",
       "      <td>0.0</td>\n",
       "    </tr>\n",
       "    <tr>\n",
       "      <th>966176</th>\n",
       "      <td>9.046997e+17</td>\n",
       "      <td>2017-09-04T13:36:26</td>\n",
       "      <td>Deeply saddened to hear that kartika is suffer...</td>\n",
       "      <td>ArnimaDutta</td>\n",
       "      <td>Arnima Dutta (puja)</td>\n",
       "      <td>dengue</td>\n",
       "      <td>en</td>\n",
       "      <td>0</td>\n",
       "      <td>2</td>\n",
       "      <td>0.0</td>\n",
       "    </tr>\n",
       "    <tr>\n",
       "      <th>966177</th>\n",
       "      <td>9.047016e+17</td>\n",
       "      <td>2017-09-04T13:44:08</td>\n",
       "      <td>Dengue figures increase 240 new cases in the l...</td>\n",
       "      <td>Raajeev_romi</td>\n",
       "      <td>Raajeev</td>\n",
       "      <td>dengue</td>\n",
       "      <td>en</td>\n",
       "      <td>1</td>\n",
       "      <td>1</td>\n",
       "      <td>1.0</td>\n",
       "    </tr>\n",
       "    <tr>\n",
       "      <th>966178</th>\n",
       "      <td>9.047030e+17</td>\n",
       "      <td>2017-09-04T13:49:41</td>\n",
       "      <td>HAHAHAHAHAHAHAHAHAHA ingat sa dengue  thank yo...</td>\n",
       "      <td>justineingridd</td>\n",
       "      <td>Ingrid Franc</td>\n",
       "      <td>dengue</td>\n",
       "      <td>en</td>\n",
       "      <td>0</td>\n",
       "      <td>5</td>\n",
       "      <td>0.0</td>\n",
       "    </tr>\n",
       "    <tr>\n",
       "      <th>966179</th>\n",
       "      <td>9.047032e+17</td>\n",
       "      <td>2017-09-04T13:50:18</td>\n",
       "      <td>Shame! today @92newschannel in PTI-slavery hid...</td>\n",
       "      <td>wazir_gulalai</td>\n",
       "      <td>Ayesha Gulalai Wazir</td>\n",
       "      <td>dengue</td>\n",
       "      <td>en</td>\n",
       "      <td>2</td>\n",
       "      <td>9</td>\n",
       "      <td>11.0</td>\n",
       "    </tr>\n",
       "    <tr>\n",
       "      <th>966180</th>\n",
       "      <td>9.047035e+17</td>\n",
       "      <td>2017-09-04T13:51:47</td>\n",
       "      <td>my bro in Thailand w the dengue fever he trapp...</td>\n",
       "      <td>grosser_tho</td>\n",
       "      <td>grosser</td>\n",
       "      <td>dengue</td>\n",
       "      <td>en</td>\n",
       "      <td>0</td>\n",
       "      <td>3</td>\n",
       "      <td>0.0</td>\n",
       "    </tr>\n",
       "    <tr>\n",
       "      <th>966181</th>\n",
       "      <td>9.047036e+17</td>\n",
       "      <td>2017-09-04T13:52:06</td>\n",
       "      <td>TAKE NOTE : Immunity to repeat #Zika infection...</td>\n",
       "      <td>AdamNeira</td>\n",
       "      <td>WorldPeace2050</td>\n",
       "      <td>dengue</td>\n",
       "      <td>en</td>\n",
       "      <td>0</td>\n",
       "      <td>0</td>\n",
       "      <td>0.0</td>\n",
       "    </tr>\n",
       "    <tr>\n",
       "      <th>966182</th>\n",
       "      <td>9.047037e+17</td>\n",
       "      <td>2017-09-04T13:52:34</td>\n",
       "      <td>#ZIKA Read this paper about Dengue. (And BTW, ...</td>\n",
       "      <td>AdamNeira</td>\n",
       "      <td>WorldPeace2050</td>\n",
       "      <td>dengue</td>\n",
       "      <td>en</td>\n",
       "      <td>0</td>\n",
       "      <td>0</td>\n",
       "      <td>0.0</td>\n",
       "    </tr>\n",
       "    <tr>\n",
       "      <th>966183</th>\n",
       "      <td>9.047041e+17</td>\n",
       "      <td>2017-09-04T13:53:53</td>\n",
       "      <td>Right to Privacy is Fundamental not compromise...</td>\n",
       "      <td>adrenna9</td>\n",
       "      <td>Girish</td>\n",
       "      <td>dengue</td>\n",
       "      <td>en</td>\n",
       "      <td>0</td>\n",
       "      <td>1</td>\n",
       "      <td>0.0</td>\n",
       "    </tr>\n",
       "    <tr>\n",
       "      <th>966184</th>\n",
       "      <td>9.047043e+17</td>\n",
       "      <td>2017-09-04T13:54:44</td>\n",
       "      <td>both me and my sister!!!  I had so much compli...</td>\n",
       "      <td>yannaalcira</td>\n",
       "      <td>Yanna Alcira</td>\n",
       "      <td>dengue</td>\n",
       "      <td>en</td>\n",
       "      <td>0</td>\n",
       "      <td>0</td>\n",
       "      <td>1.0</td>\n",
       "    </tr>\n",
       "    <tr>\n",
       "      <th>966185</th>\n",
       "      <td>9.047049e+17</td>\n",
       "      <td>2017-09-04T13:57:12</td>\n",
       "      <td>No need to create new interventions against mo...</td>\n",
       "      <td>AdamNeira</td>\n",
       "      <td>WorldPeace2050</td>\n",
       "      <td>dengue</td>\n",
       "      <td>en</td>\n",
       "      <td>0</td>\n",
       "      <td>1</td>\n",
       "      <td>0.0</td>\n",
       "    </tr>\n",
       "    <tr>\n",
       "      <th>966186</th>\n",
       "      <td>9.047050e+17</td>\n",
       "      <td>2017-09-04T13:57:26</td>\n",
       "      <td>Let's annihilate the mosquitoes nalang bes. I ...</td>\n",
       "      <td>ColoredPencilss</td>\n",
       "      <td>Colleen (ÃÂÃÂÃÂÃÂ¢ÃÂÃÂÃÂÃÂÃÂÃ...</td>\n",
       "      <td>dengue</td>\n",
       "      <td>en</td>\n",
       "      <td>0</td>\n",
       "      <td>0</td>\n",
       "      <td>0.0</td>\n",
       "    </tr>\n",
       "    <tr>\n",
       "      <th>966187</th>\n",
       "      <td>9.047054e+17</td>\n",
       "      <td>2017-09-04T13:59:16</td>\n",
       "      <td>Requesting for #Dengue spray in #Islamabad bcz...</td>\n",
       "      <td>Billzleo</td>\n",
       "      <td>Leo</td>\n",
       "      <td>dengue</td>\n",
       "      <td>en</td>\n",
       "      <td>0</td>\n",
       "      <td>0</td>\n",
       "      <td>0.0</td>\n",
       "    </tr>\n",
       "    <tr>\n",
       "      <th>966188</th>\n",
       "      <td>9.047055e+17</td>\n",
       "      <td>2017-09-04T13:59:42</td>\n",
       "      <td>Trying to re-invent the wheel is wasteful, tim...</td>\n",
       "      <td>AdamNeira</td>\n",
       "      <td>WorldPeace2050</td>\n",
       "      <td>dengue</td>\n",
       "      <td>en</td>\n",
       "      <td>0</td>\n",
       "      <td>0</td>\n",
       "      <td>0.0</td>\n",
       "    </tr>\n",
       "    <tr>\n",
       "      <th>966189</th>\n",
       "      <td>9.047069e+17</td>\n",
       "      <td>2017-09-04T14:05:08</td>\n",
       "      <td>Indirectly you are asking for oxygen to AAP, w...</td>\n",
       "      <td>akhilpsingh</td>\n",
       "      <td>Akhil Singh</td>\n",
       "      <td>dengue</td>\n",
       "      <td>en</td>\n",
       "      <td>0</td>\n",
       "      <td>0</td>\n",
       "      <td>0.0</td>\n",
       "    </tr>\n",
       "    <tr>\n",
       "      <th>966190</th>\n",
       "      <td>9.047074e+17</td>\n",
       "      <td>2017-09-04T14:06:57</td>\n",
       "      <td>Stay Alert. Fight #Dengue.\\nInstall RK ecran's...</td>\n",
       "      <td>rkecran</td>\n",
       "      <td>RK ecran</td>\n",
       "      <td>dengue</td>\n",
       "      <td>en</td>\n",
       "      <td>0</td>\n",
       "      <td>0</td>\n",
       "      <td>0.0</td>\n",
       "    </tr>\n",
       "    <tr>\n",
       "      <th>966191</th>\n",
       "      <td>9.047085e+17</td>\n",
       "      <td>2017-09-04T14:11:35</td>\n",
       "      <td>Latest updates from Dengue Response Unit Khybe...</td>\n",
       "      <td>infokpgovt</td>\n",
       "      <td>Information &amp; PRs KP</td>\n",
       "      <td>dengue</td>\n",
       "      <td>en</td>\n",
       "      <td>2</td>\n",
       "      <td>3</td>\n",
       "      <td>0.0</td>\n",
       "    </tr>\n",
       "    <tr>\n",
       "      <th>966192</th>\n",
       "      <td>9.047093e+17</td>\n",
       "      <td>2017-09-04T14:14:32</td>\n",
       "      <td>AAP govt has put in special efforts in the spr...</td>\n",
       "      <td>yogye</td>\n",
       "      <td>Yogi</td>\n",
       "      <td>dengue</td>\n",
       "      <td>en</td>\n",
       "      <td>0</td>\n",
       "      <td>2</td>\n",
       "      <td>0.0</td>\n",
       "    </tr>\n",
       "    <tr>\n",
       "      <th>966193</th>\n",
       "      <td>9.047107e+17</td>\n",
       "      <td>2017-09-04T14:20:11</td>\n",
       "      <td>Nd he is Afraid to that, when dengue nd chikan...</td>\n",
       "      <td>virubhardwaj01</td>\n",
       "      <td>Virendra bhardwaj</td>\n",
       "      <td>dengue</td>\n",
       "      <td>en</td>\n",
       "      <td>0</td>\n",
       "      <td>0</td>\n",
       "      <td>0.0</td>\n",
       "    </tr>\n",
       "    <tr>\n",
       "      <th>966194</th>\n",
       "      <td>9.047113e+17</td>\n",
       "      <td>2017-09-04T14:22:41</td>\n",
       "      <td>Kejriwal to leave for a 10-day vipassana in Ma...</td>\n",
       "      <td>SharmaSumit7</td>\n",
       "      <td>Sumit Sharma</td>\n",
       "      <td>dengue</td>\n",
       "      <td>en</td>\n",
       "      <td>0</td>\n",
       "      <td>0</td>\n",
       "      <td>0.0</td>\n",
       "    </tr>\n",
       "    <tr>\n",
       "      <th>966195</th>\n",
       "      <td>9.047113e+17</td>\n",
       "      <td>2017-09-04T14:22:48</td>\n",
       "      <td>Kejriwal to leave for a 10-day vipassana in Ma...</td>\n",
       "      <td>SharmaSumit7</td>\n",
       "      <td>Sumit Sharma</td>\n",
       "      <td>dengue</td>\n",
       "      <td>en</td>\n",
       "      <td>0</td>\n",
       "      <td>0</td>\n",
       "      <td>0.0</td>\n",
       "    </tr>\n",
       "    <tr>\n",
       "      <th>966196</th>\n",
       "      <td>9.047114e+17</td>\n",
       "      <td>2017-09-04T14:23:05</td>\n",
       "      <td>Kejriwal to leave for a 10-day vipassana in Ma...</td>\n",
       "      <td>SharmaSumit7</td>\n",
       "      <td>Sumit Sharma</td>\n",
       "      <td>dengue</td>\n",
       "      <td>en</td>\n",
       "      <td>0</td>\n",
       "      <td>0</td>\n",
       "      <td>0.0</td>\n",
       "    </tr>\n",
       "    <tr>\n",
       "      <th>966197</th>\n",
       "      <td>9.047114e+17</td>\n",
       "      <td>2017-09-04T14:23:09</td>\n",
       "      <td>Kejriwal to leave for a 10-day vipassana in Ma...</td>\n",
       "      <td>SharmaSumit7</td>\n",
       "      <td>Sumit Sharma</td>\n",
       "      <td>dengue</td>\n",
       "      <td>en</td>\n",
       "      <td>0</td>\n",
       "      <td>0</td>\n",
       "      <td>0.0</td>\n",
       "    </tr>\n",
       "    <tr>\n",
       "      <th>966198</th>\n",
       "      <td>9.047115e+17</td>\n",
       "      <td>2017-09-04T14:23:24</td>\n",
       "      <td>Kejriwal to leave for a 10-day vipassana in Ma...</td>\n",
       "      <td>SharmaSumit7</td>\n",
       "      <td>Sumit Sharma</td>\n",
       "      <td>dengue</td>\n",
       "      <td>en</td>\n",
       "      <td>0</td>\n",
       "      <td>0</td>\n",
       "      <td>0.0</td>\n",
       "    </tr>\n",
       "    <tr>\n",
       "      <th>966199</th>\n",
       "      <td>9.047127e+17</td>\n",
       "      <td>2017-09-04T14:28:20</td>\n",
       "      <td>DRU report says #HealthKP that 292 ppl dengue ...</td>\n",
       "      <td>HealthKPGovt</td>\n",
       "      <td>Health Department KP</td>\n",
       "      <td>dengue</td>\n",
       "      <td>en</td>\n",
       "      <td>0</td>\n",
       "      <td>1</td>\n",
       "      <td>0.0</td>\n",
       "    </tr>\n",
       "    <tr>\n",
       "      <th>966200</th>\n",
       "      <td>9.047129e+17</td>\n",
       "      <td>2017-09-04T14:29:01</td>\n",
       "      <td>These are the biggest health risks Texans face...</td>\n",
       "      <td>BreakDengue</td>\n",
       "      <td>Break Dengue</td>\n",
       "      <td>dengue</td>\n",
       "      <td>en</td>\n",
       "      <td>0</td>\n",
       "      <td>0</td>\n",
       "      <td>0.0</td>\n",
       "    </tr>\n",
       "  </tbody>\n",
       "</table>\n",
       "<p>966201 rows × 10 columns</p>\n",
       "</div>"
      ],
      "text/plain": [
       "                  id              created  \\\n",
       "0       9.030243e+17  2017-08-30T22:39:01   \n",
       "1       9.029942e+17  2017-08-30T20:39:30   \n",
       "2       9.029910e+17  2017-08-30T20:26:44   \n",
       "3       9.029909e+17  2017-08-30T20:26:27   \n",
       "4       9.029907e+17  2017-08-30T20:25:42   \n",
       "5       9.029853e+17  2017-08-30T20:04:15   \n",
       "6       9.029711e+17  2017-08-30T19:07:42   \n",
       "7       9.029673e+17  2017-08-30T18:52:29   \n",
       "8       9.029355e+17  2017-08-30T16:46:15   \n",
       "9       9.029342e+17  2017-08-30T16:40:55   \n",
       "10      9.029267e+17  2017-08-30T16:11:13   \n",
       "11      9.029261e+17  2017-08-30T16:08:58   \n",
       "12      9.029259e+17  2017-08-30T16:08:07   \n",
       "13      9.029258e+17  2017-08-30T16:07:34   \n",
       "14      9.029250e+17  2017-08-30T16:04:26   \n",
       "15      9.029231e+17  2017-08-30T15:57:06   \n",
       "16      9.029223e+17  2017-08-30T15:53:56   \n",
       "17      9.029221e+17  2017-08-30T15:52:56   \n",
       "18      9.029146e+17  2017-08-30T15:23:04   \n",
       "19      9.029119e+17  2017-08-30T15:12:30   \n",
       "20      9.029061e+17  2017-08-30T14:49:28   \n",
       "21      9.029020e+17  2017-08-30T14:32:55   \n",
       "22      9.028934e+17  2017-08-30T13:58:46   \n",
       "23      9.028788e+17  2017-08-30T13:00:51   \n",
       "24      9.028738e+17  2017-08-30T12:40:53   \n",
       "25      9.028632e+17  2017-08-30T11:59:04   \n",
       "26      9.028577e+17  2017-08-30T11:37:03   \n",
       "27      9.028531e+17  2017-08-30T11:18:41   \n",
       "28      9.028466e+17  2017-08-30T10:53:09   \n",
       "29      9.028466e+17  2017-08-30T10:53:09   \n",
       "...              ...                  ...   \n",
       "966171  9.046974e+17  2017-09-04T13:27:23   \n",
       "966172  9.046975e+17  2017-09-04T13:27:39   \n",
       "966173  9.046975e+17  2017-09-04T13:27:57   \n",
       "966174  9.046988e+17  2017-09-04T13:32:56   \n",
       "966175  9.046994e+17  2017-09-04T13:35:30   \n",
       "966176  9.046997e+17  2017-09-04T13:36:26   \n",
       "966177  9.047016e+17  2017-09-04T13:44:08   \n",
       "966178  9.047030e+17  2017-09-04T13:49:41   \n",
       "966179  9.047032e+17  2017-09-04T13:50:18   \n",
       "966180  9.047035e+17  2017-09-04T13:51:47   \n",
       "966181  9.047036e+17  2017-09-04T13:52:06   \n",
       "966182  9.047037e+17  2017-09-04T13:52:34   \n",
       "966183  9.047041e+17  2017-09-04T13:53:53   \n",
       "966184  9.047043e+17  2017-09-04T13:54:44   \n",
       "966185  9.047049e+17  2017-09-04T13:57:12   \n",
       "966186  9.047050e+17  2017-09-04T13:57:26   \n",
       "966187  9.047054e+17  2017-09-04T13:59:16   \n",
       "966188  9.047055e+17  2017-09-04T13:59:42   \n",
       "966189  9.047069e+17  2017-09-04T14:05:08   \n",
       "966190  9.047074e+17  2017-09-04T14:06:57   \n",
       "966191  9.047085e+17  2017-09-04T14:11:35   \n",
       "966192  9.047093e+17  2017-09-04T14:14:32   \n",
       "966193  9.047107e+17  2017-09-04T14:20:11   \n",
       "966194  9.047113e+17  2017-09-04T14:22:41   \n",
       "966195  9.047113e+17  2017-09-04T14:22:48   \n",
       "966196  9.047114e+17  2017-09-04T14:23:05   \n",
       "966197  9.047114e+17  2017-09-04T14:23:09   \n",
       "966198  9.047115e+17  2017-09-04T14:23:24   \n",
       "966199  9.047127e+17  2017-09-04T14:28:20   \n",
       "966200  9.047129e+17  2017-09-04T14:29:01   \n",
       "\n",
       "                                                     text         username  \\\n",
       "0       people will give #panamaVerdict in NA_120 elec...         on_drive   \n",
       "1       U r just a barking dog. Where did Panama expos...    Unkindly_Kind   \n",
       "2       It is clear from Maryam Nawaz's bitter NA-120 ...   zartajgulwazir   \n",
       "3       NAB References triggered by Panama verdict are...   zartajgulwazir   \n",
       "4       Jaise motu gang k saath hua tha, he didn't acc...   NomanChaudhry8   \n",
       "5       Salute to Judges like Justice Asif Saeed Khosa...        Parley_JD   \n",
       "6       SHOW ME THE MONEY ! #panamaverdict http://bit....          zakrana   \n",
       "7       Tum to thahre pardesi saath kia nibhao gay.......     HashimZia_KH   \n",
       "8       @MaryamNSharif ma'am why u and ur family are h...  faheemahmadengr   \n",
       "9       After hearing his remarks in panama case..and ...         farahs_6   \n",
       "10      #StopAttackingJudiciary\\n#Trump\\n#IndiaLostPML...    shoaibahmedsa   \n",
       "11      #StopAttackingJudiciary\\n#Trump\\n#IndiaLostPML...    shoaibahmedsa   \n",
       "12      #StopAttackingJudiciary\\n#Trump\\n#IndiaLostPML...    shoaibahmedsa   \n",
       "13      #StopAttackingJudiciary\\n#Trump\\n#IndiaLostPML...    shoaibahmedsa   \n",
       "14      #StopAttackingJudiciary\\n#Trump\\n#IndiaLostPML...    shoaibahmedsa   \n",
       "15      #StopAttackingJudiciary\\n#Trump\\n#IndiaLostPML...    shoaibahmedsa   \n",
       "16      ÃÂÃÂÃÂÃÂÃÂÃÂÃÂÃÂÃÂÃÂÃÂÃ...          Atiq_SA   \n",
       "17      #StopAttackingJudiciary\\n#Trump\\n#IndiaLostPML...    shoaibahmedsa   \n",
       "18      #DramaSharif\\n@PTIOfficialRWP \\nMay b the Pana...         ParishYZ   \n",
       "19      #PanamaPapers part two, and in Mandarin this t...           kasyed   \n",
       "20      Pray for Justice Khosa.\\n#JusticeKhosa\\n#OurHe...  Faisalghafoor13   \n",
       "21      @Shahidmasooddr  Is The Button looks like this...     FizaSheikh36   \n",
       "22      ÃÂÃÂÃÂÃÂÃÂÃÂÃÂÃÂÃÂÃÂÃÂÃ...      AsimDunyaTv   \n",
       "23      #NA120WelcomesMaryam  #PanamaVerdict pic.twitt...   PoliticalThugs   \n",
       "24      NAB has destroyed institutions say #SupremeCou...   QureshiAsadAli   \n",
       "25      A shell company at that, which was used as a v...       salarlamar   \n",
       "26      IK's philosophical words on the eve of the Pan...   MirzaGhalib786   \n",
       "27      forced by his family/friends to resign on time...  arslanrehmanpak   \n",
       "28      Does the #Panama verdict need to be reviewed? ...      sr_analysis   \n",
       "29      Does the #Panama verdict need to be reviewed? ...       sr_updates   \n",
       "...                                                   ...              ...   \n",
       "966171  Please don't lose KPK too due to dengue. PTI i...   helloworld1976   \n",
       "966172  @ArvindKejriwal MCD wale kaam nhi krte. Dengue...    anilchauhan70   \n",
       "966173         Good solution for Dengue patients of KPK .         Tqshahid   \n",
       "966174  ÃÂÃÂÃÂÃÂ ÃÂÃÂÃÂÃÂ¤ÃÂÃÂÃÂÃ...    IamSonu_Yadav   \n",
       "966175  Wait...\\n\\nSir ji is going to earn the divine ...       pashyantii   \n",
       "966176  Deeply saddened to hear that kartika is suffer...      ArnimaDutta   \n",
       "966177  Dengue figures increase 240 new cases in the l...     Raajeev_romi   \n",
       "966178  HAHAHAHAHAHAHAHAHAHA ingat sa dengue  thank yo...   justineingridd   \n",
       "966179  Shame! today @92newschannel in PTI-slavery hid...    wazir_gulalai   \n",
       "966180  my bro in Thailand w the dengue fever he trapp...      grosser_tho   \n",
       "966181  TAKE NOTE : Immunity to repeat #Zika infection...        AdamNeira   \n",
       "966182  #ZIKA Read this paper about Dengue. (And BTW, ...        AdamNeira   \n",
       "966183  Right to Privacy is Fundamental not compromise...         adrenna9   \n",
       "966184  both me and my sister!!!  I had so much compli...      yannaalcira   \n",
       "966185  No need to create new interventions against mo...        AdamNeira   \n",
       "966186  Let's annihilate the mosquitoes nalang bes. I ...  ColoredPencilss   \n",
       "966187  Requesting for #Dengue spray in #Islamabad bcz...         Billzleo   \n",
       "966188  Trying to re-invent the wheel is wasteful, tim...        AdamNeira   \n",
       "966189  Indirectly you are asking for oxygen to AAP, w...      akhilpsingh   \n",
       "966190  Stay Alert. Fight #Dengue.\\nInstall RK ecran's...          rkecran   \n",
       "966191  Latest updates from Dengue Response Unit Khybe...       infokpgovt   \n",
       "966192  AAP govt has put in special efforts in the spr...            yogye   \n",
       "966193  Nd he is Afraid to that, when dengue nd chikan...   virubhardwaj01   \n",
       "966194  Kejriwal to leave for a 10-day vipassana in Ma...     SharmaSumit7   \n",
       "966195  Kejriwal to leave for a 10-day vipassana in Ma...     SharmaSumit7   \n",
       "966196  Kejriwal to leave for a 10-day vipassana in Ma...     SharmaSumit7   \n",
       "966197  Kejriwal to leave for a 10-day vipassana in Ma...     SharmaSumit7   \n",
       "966198  Kejriwal to leave for a 10-day vipassana in Ma...     SharmaSumit7   \n",
       "966199  DRU report says #HealthKP that 292 ppl dengue ...     HealthKPGovt   \n",
       "966200  These are the biggest health risks Texans face...      BreakDengue   \n",
       "\n",
       "                                                     name        category  \\\n",
       "0                                              AMAN tells  panama_verdict   \n",
       "1                                                   M@jid  panama_verdict   \n",
       "2                                        Zartaj Gul wazir  panama_verdict   \n",
       "3                                        Zartaj Gul wazir  panama_verdict   \n",
       "4                                          Noman Chaudhry  panama_verdict   \n",
       "5                                               Acrophile  panama_verdict   \n",
       "6                                                  z.khan  panama_verdict   \n",
       "7                                              HASHIM ZIA  panama_verdict   \n",
       "8                                             faheemahmad  panama_verdict   \n",
       "9                                            Farah Sohail  panama_verdict   \n",
       "10                                        Shoaib Ahmed_SA  panama_verdict   \n",
       "11                                        Shoaib Ahmed_SA  panama_verdict   \n",
       "12                                        Shoaib Ahmed_SA  panama_verdict   \n",
       "13                                        Shoaib Ahmed_SA  panama_verdict   \n",
       "14                                        Shoaib Ahmed_SA  panama_verdict   \n",
       "15                                        Shoaib Ahmed_SA  panama_verdict   \n",
       "16                                                   Atiq  panama_verdict   \n",
       "17                                        Shoaib Ahmed_SA  panama_verdict   \n",
       "18                                               Parizaad  panama_verdict   \n",
       "19                                       Kulsoom Ali Syed  panama_verdict   \n",
       "20                                         Faisal Ghafoor  panama_verdict   \n",
       "21      ÃÂÃÂÃÂÃÂÃÂÃÂÃÂÃÂ­ÃÂÃÂÃÂÃ...  panama_verdict   \n",
       "22                                             AsimHameed  panama_verdict   \n",
       "23                                             Ayla Malik  panama_verdict   \n",
       "24                                           Asad Qureshi  panama_verdict   \n",
       "25                                            salar lamar  panama_verdict   \n",
       "26                                           Mirza Ghalib  panama_verdict   \n",
       "27                                            Arslan Rana  panama_verdict   \n",
       "28                                     Spearhead Research  panama_verdict   \n",
       "29                                     Spearhead Research  panama_verdict   \n",
       "...                                                   ...             ...   \n",
       "966171                                     helloworld1976          dengue   \n",
       "966172                                       ANIL CHAUHAN          dengue   \n",
       "966173                                     Tanveer Qaisar          dengue   \n",
       "966174                                         Sonu Yadav          dengue   \n",
       "966175  Pashyanti Shukla'ÃÂÃÂÃÂÃÂ ÃÂÃÂÃÂÃ...          dengue   \n",
       "966176                                Arnima Dutta (puja)          dengue   \n",
       "966177                                            Raajeev          dengue   \n",
       "966178                                       Ingrid Franc          dengue   \n",
       "966179                               Ayesha Gulalai Wazir          dengue   \n",
       "966180                                            grosser          dengue   \n",
       "966181                                     WorldPeace2050          dengue   \n",
       "966182                                     WorldPeace2050          dengue   \n",
       "966183                                             Girish          dengue   \n",
       "966184                                       Yanna Alcira          dengue   \n",
       "966185                                     WorldPeace2050          dengue   \n",
       "966186  Colleen (ÃÂÃÂÃÂÃÂ¢ÃÂÃÂÃÂÃÂÃÂÃ...          dengue   \n",
       "966187                                                Leo          dengue   \n",
       "966188                                     WorldPeace2050          dengue   \n",
       "966189                                        Akhil Singh          dengue   \n",
       "966190                                           RK ecran          dengue   \n",
       "966191                               Information & PRs KP          dengue   \n",
       "966192                                               Yogi          dengue   \n",
       "966193                                  Virendra bhardwaj          dengue   \n",
       "966194                                       Sumit Sharma          dengue   \n",
       "966195                                       Sumit Sharma          dengue   \n",
       "966196                                       Sumit Sharma          dengue   \n",
       "966197                                       Sumit Sharma          dengue   \n",
       "966198                                       Sumit Sharma          dengue   \n",
       "966199                               Health Department KP          dengue   \n",
       "966200                                       Break Dengue          dengue   \n",
       "\n",
       "       lang retweets likes  replies  \n",
       "0        en        0     0      0.0  \n",
       "1        en        0     0      0.0  \n",
       "2        en       75   387      0.0  \n",
       "3        en       85   299      0.0  \n",
       "4        en        0     1      0.0  \n",
       "5        en        0     0      0.0  \n",
       "6        en        0     0      0.0  \n",
       "7        en        0     1      0.0  \n",
       "8        en        0     0      0.0  \n",
       "9        en        0     0      0.0  \n",
       "10       en        1     0      0.0  \n",
       "11       en        0     1      0.0  \n",
       "12       en        0     1      0.0  \n",
       "13       en        0     0      0.0  \n",
       "14       en        0     0      0.0  \n",
       "15       en        0     1      0.0  \n",
       "16       en        1     2      0.0  \n",
       "17       en        1     2      0.0  \n",
       "18       en        2     3      0.0  \n",
       "19       en        1     0      0.0  \n",
       "20       en        0     0      0.0  \n",
       "21       en        0     0      0.0  \n",
       "22       en        0     0      0.0  \n",
       "23       en        7    16      0.0  \n",
       "24       en        1     1      0.0  \n",
       "25       en        0     0      0.0  \n",
       "26       en        1     1      0.0  \n",
       "27       en        0     0      0.0  \n",
       "28       en        1     1      0.0  \n",
       "29       en        1     2      0.0  \n",
       "...     ...      ...   ...      ...  \n",
       "966171   en        0     0      0.0  \n",
       "966172   en        0     0      0.0  \n",
       "966173   en        0     0      0.0  \n",
       "966174   en        1     0      0.0  \n",
       "966175   en        2     3      0.0  \n",
       "966176   en        0     2      0.0  \n",
       "966177   en        1     1      1.0  \n",
       "966178   en        0     5      0.0  \n",
       "966179   en        2     9     11.0  \n",
       "966180   en        0     3      0.0  \n",
       "966181   en        0     0      0.0  \n",
       "966182   en        0     0      0.0  \n",
       "966183   en        0     1      0.0  \n",
       "966184   en        0     0      1.0  \n",
       "966185   en        0     1      0.0  \n",
       "966186   en        0     0      0.0  \n",
       "966187   en        0     0      0.0  \n",
       "966188   en        0     0      0.0  \n",
       "966189   en        0     0      0.0  \n",
       "966190   en        0     0      0.0  \n",
       "966191   en        2     3      0.0  \n",
       "966192   en        0     2      0.0  \n",
       "966193   en        0     0      0.0  \n",
       "966194   en        0     0      0.0  \n",
       "966195   en        0     0      0.0  \n",
       "966196   en        0     0      0.0  \n",
       "966197   en        0     0      0.0  \n",
       "966198   en        0     0      0.0  \n",
       "966199   en        0     1      0.0  \n",
       "966200   en        0     0      0.0  \n",
       "\n",
       "[966201 rows x 10 columns]"
      ]
     },
     "execution_count": 11,
     "metadata": {},
     "output_type": "execute_result"
    }
   ],
   "source": [
    "df.drop(columns=['Unnamed: 0', 'Unnamed: 0.1'])"
   ]
  },
  {
   "cell_type": "code",
   "execution_count": 9,
   "metadata": {},
   "outputs": [],
   "source": [
    "df.to_csv('../datasets/combined/data/all_tweets/tweets1.csv', index=False)"
   ]
  },
  {
   "cell_type": "code",
   "execution_count": 12,
   "metadata": {},
   "outputs": [
    {
     "data": {
      "text/html": [
       "<div>\n",
       "<style scoped>\n",
       "    .dataframe tbody tr th:only-of-type {\n",
       "        vertical-align: middle;\n",
       "    }\n",
       "\n",
       "    .dataframe tbody tr th {\n",
       "        vertical-align: top;\n",
       "    }\n",
       "\n",
       "    .dataframe thead th {\n",
       "        text-align: right;\n",
       "    }\n",
       "</style>\n",
       "<table border=\"1\" class=\"dataframe\">\n",
       "  <thead>\n",
       "    <tr style=\"text-align: right;\">\n",
       "      <th></th>\n",
       "      <th>Unnamed: 0</th>\n",
       "      <th>Unnamed: 0.1</th>\n",
       "      <th>id</th>\n",
       "      <th>created</th>\n",
       "      <th>text</th>\n",
       "      <th>username</th>\n",
       "      <th>name</th>\n",
       "      <th>category</th>\n",
       "      <th>lang</th>\n",
       "      <th>retweets</th>\n",
       "      <th>likes</th>\n",
       "      <th>replies</th>\n",
       "    </tr>\n",
       "  </thead>\n",
       "  <tbody>\n",
       "    <tr>\n",
       "      <th>0</th>\n",
       "      <td>0</td>\n",
       "      <td>0</td>\n",
       "      <td>9.030243e+17</td>\n",
       "      <td>2017-08-30T22:39:01</td>\n",
       "      <td>people will give #panamaVerdict in NA_120 elec...</td>\n",
       "      <td>on_drive</td>\n",
       "      <td>AMAN tells</td>\n",
       "      <td>panama_verdict</td>\n",
       "      <td>en</td>\n",
       "      <td>0</td>\n",
       "      <td>0</td>\n",
       "      <td>0.0</td>\n",
       "    </tr>\n",
       "    <tr>\n",
       "      <th>1</th>\n",
       "      <td>1</td>\n",
       "      <td>1</td>\n",
       "      <td>9.029942e+17</td>\n",
       "      <td>2017-08-30T20:39:30</td>\n",
       "      <td>U r just a barking dog. Where did Panama expos...</td>\n",
       "      <td>Unkindly_Kind</td>\n",
       "      <td>M@jid</td>\n",
       "      <td>panama_verdict</td>\n",
       "      <td>en</td>\n",
       "      <td>0</td>\n",
       "      <td>0</td>\n",
       "      <td>0.0</td>\n",
       "    </tr>\n",
       "    <tr>\n",
       "      <th>2</th>\n",
       "      <td>2</td>\n",
       "      <td>2</td>\n",
       "      <td>9.029910e+17</td>\n",
       "      <td>2017-08-30T20:26:44</td>\n",
       "      <td>It is clear from Maryam Nawaz's bitter NA-120 ...</td>\n",
       "      <td>zartajgulwazir</td>\n",
       "      <td>Zartaj Gul wazir</td>\n",
       "      <td>panama_verdict</td>\n",
       "      <td>en</td>\n",
       "      <td>75</td>\n",
       "      <td>387</td>\n",
       "      <td>0.0</td>\n",
       "    </tr>\n",
       "    <tr>\n",
       "      <th>3</th>\n",
       "      <td>3</td>\n",
       "      <td>3</td>\n",
       "      <td>9.029909e+17</td>\n",
       "      <td>2017-08-30T20:26:27</td>\n",
       "      <td>NAB References triggered by Panama verdict are...</td>\n",
       "      <td>zartajgulwazir</td>\n",
       "      <td>Zartaj Gul wazir</td>\n",
       "      <td>panama_verdict</td>\n",
       "      <td>en</td>\n",
       "      <td>85</td>\n",
       "      <td>299</td>\n",
       "      <td>0.0</td>\n",
       "    </tr>\n",
       "    <tr>\n",
       "      <th>4</th>\n",
       "      <td>4</td>\n",
       "      <td>4</td>\n",
       "      <td>9.029907e+17</td>\n",
       "      <td>2017-08-30T20:25:42</td>\n",
       "      <td>Jaise motu gang k saath hua tha, he didn't acc...</td>\n",
       "      <td>NomanChaudhry8</td>\n",
       "      <td>Noman Chaudhry</td>\n",
       "      <td>panama_verdict</td>\n",
       "      <td>en</td>\n",
       "      <td>0</td>\n",
       "      <td>1</td>\n",
       "      <td>0.0</td>\n",
       "    </tr>\n",
       "  </tbody>\n",
       "</table>\n",
       "</div>"
      ],
      "text/plain": [
       "   Unnamed: 0  Unnamed: 0.1            id              created  \\\n",
       "0           0             0  9.030243e+17  2017-08-30T22:39:01   \n",
       "1           1             1  9.029942e+17  2017-08-30T20:39:30   \n",
       "2           2             2  9.029910e+17  2017-08-30T20:26:44   \n",
       "3           3             3  9.029909e+17  2017-08-30T20:26:27   \n",
       "4           4             4  9.029907e+17  2017-08-30T20:25:42   \n",
       "\n",
       "                                                text        username  \\\n",
       "0  people will give #panamaVerdict in NA_120 elec...        on_drive   \n",
       "1  U r just a barking dog. Where did Panama expos...   Unkindly_Kind   \n",
       "2  It is clear from Maryam Nawaz's bitter NA-120 ...  zartajgulwazir   \n",
       "3  NAB References triggered by Panama verdict are...  zartajgulwazir   \n",
       "4  Jaise motu gang k saath hua tha, he didn't acc...  NomanChaudhry8   \n",
       "\n",
       "               name        category lang retweets likes  replies  \n",
       "0        AMAN tells  panama_verdict   en        0     0      0.0  \n",
       "1             M@jid  panama_verdict   en        0     0      0.0  \n",
       "2  Zartaj Gul wazir  panama_verdict   en       75   387      0.0  \n",
       "3  Zartaj Gul wazir  panama_verdict   en       85   299      0.0  \n",
       "4    Noman Chaudhry  panama_verdict   en        0     1      0.0  "
      ]
     },
     "execution_count": 12,
     "metadata": {},
     "output_type": "execute_result"
    }
   ],
   "source": [
    "df.head()"
   ]
  },
  {
   "cell_type": "code",
   "execution_count": 13,
   "metadata": {},
   "outputs": [
    {
     "name": "stdout",
     "output_type": "stream",
     "text": [
      "<class 'pandas.core.frame.DataFrame'>\n",
      "RangeIndex: 966201 entries, 0 to 966200\n",
      "Data columns (total 12 columns):\n",
      "Unnamed: 0      966201 non-null int64\n",
      "Unnamed: 0.1    966201 non-null int64\n",
      "id              966201 non-null float64\n",
      "created         966201 non-null object\n",
      "text            966201 non-null object\n",
      "username        966200 non-null object\n",
      "name            966179 non-null object\n",
      "category        966201 non-null object\n",
      "lang            966201 non-null object\n",
      "retweets        570799 non-null object\n",
      "likes           570799 non-null object\n",
      "replies         576365 non-null float64\n",
      "dtypes: float64(2), int64(2), object(8)\n",
      "memory usage: 88.5+ MB\n"
     ]
    }
   ],
   "source": [
    "df.info()"
   ]
  },
  {
   "cell_type": "code",
   "execution_count": 14,
   "metadata": {},
   "outputs": [
    {
     "data": {
      "text/plain": [
       "loadshedding      389836\n",
       "panama_papers     242034\n",
       "cpec              222625\n",
       "dengue             83829\n",
       "panama_verdict     27877\n",
       "Name: category, dtype: int64"
      ]
     },
     "execution_count": 14,
     "metadata": {},
     "output_type": "execute_result"
    }
   ],
   "source": [
    "df.category.value_counts()"
   ]
  },
  {
   "cell_type": "markdown",
   "metadata": {},
   "source": [
    "Dataset has 0.96 million entries, with no null entries."
   ]
  },
  {
   "cell_type": "code",
   "execution_count": 8,
   "metadata": {},
   "outputs": [
    {
     "data": {
      "text/plain": [
       "NO_QUERY    1600000\n",
       "Name: query_string, dtype: int64"
      ]
     },
     "execution_count": 8,
     "metadata": {},
     "output_type": "execute_result"
    }
   ],
   "source": [
    "df.query_string.value_counts()"
   ]
  },
  {
   "cell_type": "code",
   "execution_count": 15,
   "metadata": {},
   "outputs": [],
   "source": [
    "df.drop(['Unnamed: 0', 'Unnamed: 0.1','id','created','username','name','lang','retweets','likes','replies'],axis=1,inplace=True)"
   ]
  },
  {
   "cell_type": "code",
   "execution_count": null,
   "metadata": {},
   "outputs": [],
   "source": [
    "pd.read_csv(df.to_csv(index=False))\n",
    "df.head()"
   ]
  },
  {
   "cell_type": "markdown",
   "metadata": {},
   "source": [
    "I first started by dropping the columns that I don't need for the specific purpose of sentiment analysis.<br><br>\n",
    "\"id\" column is unique ID for each tweet<br>\n",
    "\"date\" column is for date info for the tweet<br>\n",
    "\"query_string\" column indicates whether the tweet has been collected with any particular query keyword,\n",
    "but for this column, 100% of the entries are with value \"NO_QUERY\"<br>\n",
    "\"user\" column is the twitter handle name for the user who tweeted<br><br>\n",
    "I decided to drop above four columns."
   ]
  },
  {
   "cell_type": "code",
   "execution_count": 16,
   "metadata": {},
   "outputs": [
    {
     "data": {
      "text/html": [
       "<div>\n",
       "<style scoped>\n",
       "    .dataframe tbody tr th:only-of-type {\n",
       "        vertical-align: middle;\n",
       "    }\n",
       "\n",
       "    .dataframe tbody tr th {\n",
       "        vertical-align: top;\n",
       "    }\n",
       "\n",
       "    .dataframe thead th {\n",
       "        text-align: right;\n",
       "    }\n",
       "</style>\n",
       "<table border=\"1\" class=\"dataframe\">\n",
       "  <thead>\n",
       "    <tr style=\"text-align: right;\">\n",
       "      <th></th>\n",
       "      <th>text</th>\n",
       "      <th>category</th>\n",
       "    </tr>\n",
       "  </thead>\n",
       "  <tbody>\n",
       "    <tr>\n",
       "      <th>417713</th>\n",
       "      <td>CPEC game changer for region: Nawaz Sharif #du...</td>\n",
       "      <td>cpec</td>\n",
       "    </tr>\n",
       "    <tr>\n",
       "      <th>417714</th>\n",
       "      <td>Good question, China sponsors Pakistan to keep...</td>\n",
       "      <td>cpec</td>\n",
       "    </tr>\n",
       "    <tr>\n",
       "      <th>417715</th>\n",
       "      <td>#CPEC+ECO=New Ecomic Zone \\nChanging the world...</td>\n",
       "      <td>cpec</td>\n",
       "    </tr>\n",
       "    <tr>\n",
       "      <th>417716</th>\n",
       "      <td>CPEC is now already a success.. Those  doing T...</td>\n",
       "      <td>cpec</td>\n",
       "    </tr>\n",
       "    <tr>\n",
       "      <th>417717</th>\n",
       "      <td>Score at cpec?</td>\n",
       "      <td>cpec</td>\n",
       "    </tr>\n",
       "    <tr>\n",
       "      <th>417718</th>\n",
       "      <td>CPEC game changer for region: Nawaz Sharif htt...</td>\n",
       "      <td>cpec</td>\n",
       "    </tr>\n",
       "    <tr>\n",
       "      <th>417719</th>\n",
       "      <td>CPEC: While Northwest China Enjoys Pakistani S...</td>\n",
       "      <td>cpec</td>\n",
       "    </tr>\n",
       "    <tr>\n",
       "      <th>417720</th>\n",
       "      <td>CPEC to transform lives of billions of people ...</td>\n",
       "      <td>cpec</td>\n",
       "    </tr>\n",
       "    <tr>\n",
       "      <th>417721</th>\n",
       "      <td>CPEC will transform lives of billions in regio...</td>\n",
       "      <td>cpec</td>\n",
       "    </tr>\n",
       "    <tr>\n",
       "      <th>417722</th>\n",
       "      <td>#China to build automobile city in Gwadar  htt...</td>\n",
       "      <td>cpec</td>\n",
       "    </tr>\n",
       "  </tbody>\n",
       "</table>\n",
       "</div>"
      ],
      "text/plain": [
       "                                                     text category\n",
       "417713  CPEC game changer for region: Nawaz Sharif #du...     cpec\n",
       "417714  Good question, China sponsors Pakistan to keep...     cpec\n",
       "417715  #CPEC+ECO=New Ecomic Zone \\nChanging the world...     cpec\n",
       "417716  CPEC is now already a success.. Those  doing T...     cpec\n",
       "417717                                     Score at cpec?     cpec\n",
       "417718  CPEC game changer for region: Nawaz Sharif htt...     cpec\n",
       "417719  CPEC: While Northwest China Enjoys Pakistani S...     cpec\n",
       "417720  CPEC to transform lives of billions of people ...     cpec\n",
       "417721  CPEC will transform lives of billions in regio...     cpec\n",
       "417722  #China to build automobile city in Gwadar  htt...     cpec"
      ]
     },
     "execution_count": 16,
     "metadata": {},
     "output_type": "execute_result"
    }
   ],
   "source": [
    "df[df.category == 'cpec'].head(10)"
   ]
  },
  {
   "cell_type": "code",
   "execution_count": 17,
   "metadata": {},
   "outputs": [
    {
     "data": {
      "text/html": [
       "<div>\n",
       "<style scoped>\n",
       "    .dataframe tbody tr th:only-of-type {\n",
       "        vertical-align: middle;\n",
       "    }\n",
       "\n",
       "    .dataframe tbody tr th {\n",
       "        vertical-align: top;\n",
       "    }\n",
       "\n",
       "    .dataframe thead th {\n",
       "        text-align: right;\n",
       "    }\n",
       "</style>\n",
       "<table border=\"1\" class=\"dataframe\">\n",
       "  <thead>\n",
       "    <tr style=\"text-align: right;\">\n",
       "      <th></th>\n",
       "      <th>text</th>\n",
       "      <th>category</th>\n",
       "    </tr>\n",
       "  </thead>\n",
       "  <tbody>\n",
       "    <tr>\n",
       "      <th>882372</th>\n",
       "      <td>Just played: Cardboard castles - Dengue Fever ...</td>\n",
       "      <td>dengue</td>\n",
       "    </tr>\n",
       "    <tr>\n",
       "      <th>882373</th>\n",
       "      <td>Big Gigs for Jan. 8-14: Dengue Fever, Johnny C...</td>\n",
       "      <td>dengue</td>\n",
       "    </tr>\n",
       "    <tr>\n",
       "      <th>882374</th>\n",
       "      <td>St. Paul! Dengue Fever Saturday and more prior...</td>\n",
       "      <td>dengue</td>\n",
       "    </tr>\n",
       "    <tr>\n",
       "      <th>882375</th>\n",
       "      <td>Diferencias Zica, Dengue, Chicungunya pic.twit...</td>\n",
       "      <td>dengue</td>\n",
       "    </tr>\n",
       "    <tr>\n",
       "      <th>882376</th>\n",
       "      <td>EAT MORE BACON No let up: Dengue mosquito larv...</td>\n",
       "      <td>dengue</td>\n",
       "    </tr>\n",
       "    <tr>\n",
       "      <th>882377</th>\n",
       "      <td>No let up: Dengue mosquito larva found in Rawa...</td>\n",
       "      <td>dengue</td>\n",
       "    </tr>\n",
       "    <tr>\n",
       "      <th>882378</th>\n",
       "      <td>Flowers may attract more dengue mosquitoes to ...</td>\n",
       "      <td>dengue</td>\n",
       "    </tr>\n",
       "    <tr>\n",
       "      <th>882379</th>\n",
       "      <td>In light of the rapid spread of #ZikaVirus  an...</td>\n",
       "      <td>dengue</td>\n",
       "    </tr>\n",
       "    <tr>\n",
       "      <th>882380</th>\n",
       "      <td>Brazil is grappling with the rapid spread of t...</td>\n",
       "      <td>dengue</td>\n",
       "    </tr>\n",
       "    <tr>\n",
       "      <th>882381</th>\n",
       "      <td>@KhanKiTigress hahaha oper say blood thin kard...</td>\n",
       "      <td>dengue</td>\n",
       "    </tr>\n",
       "  </tbody>\n",
       "</table>\n",
       "</div>"
      ],
      "text/plain": [
       "                                                     text category\n",
       "882372  Just played: Cardboard castles - Dengue Fever ...   dengue\n",
       "882373  Big Gigs for Jan. 8-14: Dengue Fever, Johnny C...   dengue\n",
       "882374  St. Paul! Dengue Fever Saturday and more prior...   dengue\n",
       "882375  Diferencias Zica, Dengue, Chicungunya pic.twit...   dengue\n",
       "882376  EAT MORE BACON No let up: Dengue mosquito larv...   dengue\n",
       "882377  No let up: Dengue mosquito larva found in Rawa...   dengue\n",
       "882378  Flowers may attract more dengue mosquitoes to ...   dengue\n",
       "882379  In light of the rapid spread of #ZikaVirus  an...   dengue\n",
       "882380  Brazil is grappling with the rapid spread of t...   dengue\n",
       "882381  @KhanKiTigress hahaha oper say blood thin kard...   dengue"
      ]
     },
     "execution_count": 17,
     "metadata": {},
     "output_type": "execute_result"
    }
   ],
   "source": [
    "df[df.category == 'dengue'].head(10)"
   ]
  },
  {
   "cell_type": "markdown",
   "metadata": {},
   "source": []
  },
  {
   "cell_type": "code",
   "execution_count": 13,
   "metadata": {},
   "outputs": [
    {
     "data": {
      "text/plain": [
       "Int64Index([     0,      1,      2,      3,      4,      5,      6,      7,\n",
       "                 8,      9,\n",
       "            ...\n",
       "            799990, 799991, 799992, 799993, 799994, 799995, 799996, 799997,\n",
       "            799998, 799999],\n",
       "           dtype='int64', length=800000)"
      ]
     },
     "execution_count": 13,
     "metadata": {},
     "output_type": "execute_result"
    }
   ],
   "source": [
    "df[df.sentiment == 0].index"
   ]
  },
  {
   "cell_type": "code",
   "execution_count": 14,
   "metadata": {},
   "outputs": [
    {
     "data": {
      "text/plain": [
       "Int64Index([ 800000,  800001,  800002,  800003,  800004,  800005,  800006,\n",
       "             800007,  800008,  800009,\n",
       "            ...\n",
       "            1599990, 1599991, 1599992, 1599993, 1599994, 1599995, 1599996,\n",
       "            1599997, 1599998, 1599999],\n",
       "           dtype='int64', length=800000)"
      ]
     },
     "execution_count": 14,
     "metadata": {},
     "output_type": "execute_result"
    }
   ],
   "source": [
    "df[df.sentiment == 4].index"
   ]
  },
  {
   "cell_type": "code",
   "execution_count": 15,
   "metadata": {
    "collapsed": true
   },
   "outputs": [],
   "source": [
    "df['sentiment'] = df['sentiment'].map({0: 0, 4: 1})"
   ]
  },
  {
   "cell_type": "code",
   "execution_count": 16,
   "metadata": {},
   "outputs": [
    {
     "data": {
      "text/plain": [
       "1    800000\n",
       "0    800000\n",
       "Name: sentiment, dtype: int64"
      ]
     },
     "execution_count": 16,
     "metadata": {},
     "output_type": "execute_result"
    }
   ],
   "source": [
    "df.sentiment.value_counts()"
   ]
  },
  {
   "cell_type": "markdown",
   "metadata": {},
   "source": [
    "# Data Preparation"
   ]
  },
  {
   "cell_type": "code",
   "execution_count": 18,
   "metadata": {},
   "outputs": [],
   "source": [
    "df['pre_clean_len'] = [len(t) for t in df.text]"
   ]
  },
  {
   "cell_type": "markdown",
   "metadata": {},
   "source": [
    "## Data Dictionary - first draft"
   ]
  },
  {
   "cell_type": "markdown",
   "metadata": {},
   "source": [
    "Below is the first draft of the data dictionary for the dataset, but as I go through preparation, this will need to be updated."
   ]
  },
  {
   "cell_type": "code",
   "execution_count": 19,
   "metadata": {},
   "outputs": [
    {
     "name": "stdout",
     "output_type": "stream",
     "text": [
      "{'category': {'description': 'category class - loadshedding, '\n",
      "                             'panama_papers,panama_verdict,cpec,dengue',\n",
      "              'type': dtype('O')},\n",
      " 'dataset_shape': (966201, 3),\n",
      " 'pre_clean_len': {'description': 'Length of the tweet before cleaning',\n",
      "                   'type': dtype('int64')},\n",
      " 'text': {'description': 'tweet text', 'type': dtype('O')}}\n"
     ]
    }
   ],
   "source": [
    "from pprint import pprint\n",
    "data_dict = {\n",
    "    'category':{\n",
    "        'type':df.category.dtype,\n",
    "        'description':'category class - loadshedding, panama_papers,panama_verdict,cpec,dengue'\n",
    "    },\n",
    "    'text':{\n",
    "        'type':df.text.dtype,\n",
    "        'description':'tweet text'\n",
    "    },\n",
    "    'pre_clean_len':{\n",
    "        'type':df.pre_clean_len.dtype,\n",
    "        'description':'Length of the tweet before cleaning'\n",
    "    },\n",
    "    'dataset_shape':df.shape\n",
    "}\n",
    "\n",
    "pprint(data_dict)"
   ]
  },
  {
   "cell_type": "markdown",
   "metadata": {},
   "source": [
    " plotting pre_clean_len with box plot"
   ]
  },
  {
   "cell_type": "code",
   "execution_count": 20,
   "metadata": {
    "scrolled": true
   },
   "outputs": [
    {
     "data": {
      "image/png": "[encoded data removed]",
      "text/plain": [
       "<Figure size 360x360 with 1 Axes>"
      ]
     },
     "metadata": {
      "image/png": {
       "height": 299,
       "width": 356
      }
     },
     "output_type": "display_data"
    }
   ],
   "source": [
    "fig, ax = plt.subplots(figsize=(5, 5))\n",
    "plt.boxplot(df.pre_clean_len)\n",
    "plt.show()"
   ]
  },
  {
   "cell_type": "markdown",
   "metadata": {},
   "source": []
  },
  {
   "cell_type": "code",
   "execution_count": 21,
   "metadata": {},
   "outputs": [
    {
     "data": {
      "text/html": [
       "<div>\n",
       "<style scoped>\n",
       "    .dataframe tbody tr th:only-of-type {\n",
       "        vertical-align: middle;\n",
       "    }\n",
       "\n",
       "    .dataframe tbody tr th {\n",
       "        vertical-align: top;\n",
       "    }\n",
       "\n",
       "    .dataframe thead th {\n",
       "        text-align: right;\n",
       "    }\n",
       "</style>\n",
       "<table border=\"1\" class=\"dataframe\">\n",
       "  <thead>\n",
       "    <tr style=\"text-align: right;\">\n",
       "      <th></th>\n",
       "      <th>text</th>\n",
       "      <th>category</th>\n",
       "      <th>pre_clean_len</th>\n",
       "    </tr>\n",
       "  </thead>\n",
       "  <tbody>\n",
       "    <tr>\n",
       "      <th>7</th>\n",
       "      <td>Tum to thahre pardesi saath kia nibhao gay.......</td>\n",
       "      <td>panama_verdict</td>\n",
       "      <td>159</td>\n",
       "    </tr>\n",
       "    <tr>\n",
       "      <th>10</th>\n",
       "      <td>#StopAttackingJudiciary\\n#Trump\\n#IndiaLostPML...</td>\n",
       "      <td>panama_verdict</td>\n",
       "      <td>905</td>\n",
       "    </tr>\n",
       "    <tr>\n",
       "      <th>11</th>\n",
       "      <td>#StopAttackingJudiciary\\n#Trump\\n#IndiaLostPML...</td>\n",
       "      <td>panama_verdict</td>\n",
       "      <td>906</td>\n",
       "    </tr>\n",
       "    <tr>\n",
       "      <th>12</th>\n",
       "      <td>#StopAttackingJudiciary\\n#Trump\\n#IndiaLostPML...</td>\n",
       "      <td>panama_verdict</td>\n",
       "      <td>912</td>\n",
       "    </tr>\n",
       "    <tr>\n",
       "      <th>13</th>\n",
       "      <td>#StopAttackingJudiciary\\n#Trump\\n#IndiaLostPML...</td>\n",
       "      <td>panama_verdict</td>\n",
       "      <td>908</td>\n",
       "    </tr>\n",
       "    <tr>\n",
       "      <th>14</th>\n",
       "      <td>#StopAttackingJudiciary\\n#Trump\\n#IndiaLostPML...</td>\n",
       "      <td>panama_verdict</td>\n",
       "      <td>907</td>\n",
       "    </tr>\n",
       "    <tr>\n",
       "      <th>15</th>\n",
       "      <td>#StopAttackingJudiciary\\n#Trump\\n#IndiaLostPML...</td>\n",
       "      <td>panama_verdict</td>\n",
       "      <td>916</td>\n",
       "    </tr>\n",
       "    <tr>\n",
       "      <th>16</th>\n",
       "      <td>ÃÂÃÂÃÂÃÂÃÂÃÂÃÂÃÂÃÂÃÂÃÂÃ...</td>\n",
       "      <td>panama_verdict</td>\n",
       "      <td>886</td>\n",
       "    </tr>\n",
       "    <tr>\n",
       "      <th>17</th>\n",
       "      <td>#StopAttackingJudiciary\\n#Trump\\n#IndiaLostPML...</td>\n",
       "      <td>panama_verdict</td>\n",
       "      <td>910</td>\n",
       "    </tr>\n",
       "    <tr>\n",
       "      <th>19</th>\n",
       "      <td>#PanamaPapers part two, and in Mandarin this t...</td>\n",
       "      <td>panama_verdict</td>\n",
       "      <td>338</td>\n",
       "    </tr>\n",
       "  </tbody>\n",
       "</table>\n",
       "</div>"
      ],
      "text/plain": [
       "                                                 text        category  \\\n",
       "7   Tum to thahre pardesi saath kia nibhao gay.......  panama_verdict   \n",
       "10  #StopAttackingJudiciary\\n#Trump\\n#IndiaLostPML...  panama_verdict   \n",
       "11  #StopAttackingJudiciary\\n#Trump\\n#IndiaLostPML...  panama_verdict   \n",
       "12  #StopAttackingJudiciary\\n#Trump\\n#IndiaLostPML...  panama_verdict   \n",
       "13  #StopAttackingJudiciary\\n#Trump\\n#IndiaLostPML...  panama_verdict   \n",
       "14  #StopAttackingJudiciary\\n#Trump\\n#IndiaLostPML...  panama_verdict   \n",
       "15  #StopAttackingJudiciary\\n#Trump\\n#IndiaLostPML...  panama_verdict   \n",
       "16  ÃÂÃÂÃÂÃÂÃÂÃÂÃÂÃÂÃÂÃÂÃÂÃ...  panama_verdict   \n",
       "17  #StopAttackingJudiciary\\n#Trump\\n#IndiaLostPML...  panama_verdict   \n",
       "19  #PanamaPapers part two, and in Mandarin this t...  panama_verdict   \n",
       "\n",
       "    pre_clean_len  \n",
       "7             159  \n",
       "10            905  \n",
       "11            906  \n",
       "12            912  \n",
       "13            908  \n",
       "14            907  \n",
       "15            916  \n",
       "16            886  \n",
       "17            910  \n",
       "19            338  "
      ]
     },
     "execution_count": 21,
     "metadata": {},
     "output_type": "execute_result"
    }
   ],
   "source": [
    "df[df.pre_clean_len > 140].head(10)"
   ]
  },
  {
   "cell_type": "markdown",
   "metadata": {},
   "source": [
    "## Data Preparation 1: HTML decoding"
   ]
  },
  {
   "cell_type": "code",
   "execution_count": 22,
   "metadata": {},
   "outputs": [
    {
     "data": {
      "text/plain": [
       "'Nawaz SharifÃ\\x83Â\\x83Ã\\x82Â\\x83Ã\\x83Â\\x82Ã\\x82Â\\x83Ã\\x83Â\\x83Ã\\x82Â\\x82Ã\\x83Â\\x82Ã\\x82Â¢Ã\\x83Â\\x83Ã\\x82Â\\x83Ã\\x83Â\\x82Ã\\x82Â\\x82Ã\\x83Â\\x83Ã\\x82Â\\x82Ã\\x83Â\\x82Ã\\x82Â\\x80Ã\\x83Â\\x83Ã\\x82Â\\x83Ã\\x83Â\\x82Ã\\x82Â\\x82Ã\\x83Â\\x83Ã\\x82Â\\x82Ã\\x83Â\\x82Ã\\x82Â\\x99s children file appeals against Panama Case verdict\\nhttp://english.khabartv.news/archives/23010Ã\\x83Â\\x83Ã\\x82Â\\x83Ã\\x83Â\\x82Ã\\x82Â\\x83Ã\\x83Â\\x83Ã\\x82Â\\x82Ã\\x83Â\\x82Ã\\x82Â\\x82Ã\\x83Â\\x83Ã\\x82Â\\x83Ã\\x83Â\\x82Ã\\x82Â\\x82Ã\\x83Â\\x83Ã\\x82Â\\x82Ã\\x83Â\\x82Ã\\x82Â\\xa0'"
      ]
     },
     "execution_count": 22,
     "metadata": {},
     "output_type": "execute_result"
    }
   ],
   "source": [
    "df.text[279]"
   ]
  },
  {
   "cell_type": "code",
   "execution_count": 24,
   "metadata": {},
   "outputs": [
    {
     "name": "stdout",
     "output_type": "stream",
     "text": [
      "Nawaz SharifÃÂÃÂÃÂÃÂÃÂÃÂÃÂÃÂ¢ÃÂÃÂÃÂÃÂÃÂÃÂÃÂÃÂÃÂÃÂÃÂÃÂÃÂÃÂÃÂÃÂs children file appeals against Panama Case verdict\n",
      "http://english.khabartv.news/archives/23010ÃÂÃÂÃÂÃÂÃÂÃÂÃÂÃÂÃÂÃÂÃÂÃÂÃÂÃÂÃÂÃÂ \n"
     ]
    }
   ],
   "source": [
    "from bs4 import BeautifulSoup\n",
    "example1 = BeautifulSoup(df.text[279], 'lxml')\n",
    "print(example1.get_text())"
   ]
  },
  {
   "cell_type": "markdown",
   "metadata": {},
   "source": [
    "## Data Preparation 2: @mention"
   ]
  },
  {
   "cell_type": "code",
   "execution_count": 25,
   "metadata": {},
   "outputs": [
    {
     "data": {
      "text/plain": [
       "'Is Faisle Ko Kabhi Tasleem Nahi Kia Jaye Ga Ã\\x83Â\\x83Ã\\x82Â\\x83Ã\\x83Â\\x82Ã\\x82Â\\x83Ã\\x83Â\\x83Ã\\x82Â\\x82Ã\\x83Â\\x82Ã\\x82Â¢Ã\\x83Â\\x83Ã\\x82Â\\x83Ã\\x83Â\\x82Ã\\x82Â\\x82Ã\\x83Â\\x83Ã\\x82Â\\x82Ã\\x83Â\\x82Ã\\x82Â\\x80Ã\\x83Â\\x83Ã\\x82Â\\x83Ã\\x83Â\\x82Ã\\x82Â\\x82Ã\\x83Â\\x83Ã\\x82Â\\x82Ã\\x83Â\\x82Ã\\x82Â\\x93 Nawaz Sharif Criticizing Panama CaseÃ\\x83Â\\x83Ã\\x82Â\\x83Ã\\x83Â\\x82Ã\\x82Â\\x83Ã\\x83Â\\x83Ã\\x82Â\\x82Ã\\x83Â\\x82Ã\\x82Â\\x82Ã\\x83Â\\x83Ã\\x82Â\\x83Ã\\x83Â\\x82Ã\\x82Â\\x82Ã\\x83Â\\x83Ã\\x82Â\\x82Ã\\x83Â\\x82Ã\\x82Â\\xa0Verdict https://dekhoworld.net/2017/08/25/is-faisle-ko-kabhi-tasleem-nahi-kia-jaye-ga-nawaz-sharif-criticizing-panama-case-verdict/Ã\\x83Â\\x83Ã\\x82Â\\x83Ã\\x83Â\\x82Ã\\x82Â\\x83Ã\\x83Â\\x83Ã\\x82Â\\x82Ã\\x83Â\\x82Ã\\x82Â\\x82Ã\\x83Â\\x83Ã\\x82Â\\x83Ã\\x83Â\\x82Ã\\x82Â\\x82Ã\\x83Â\\x83Ã\\x82Â\\x82Ã\\x83Â\\x82Ã\\x82Â\\xa0Ã\\x83Â\\x83Ã\\x82Â\\x83Ã\\x83Â\\x82Ã\\x82Â\\x83Ã\\x83Â\\x83Ã\\x82Â\\x82Ã\\x83Â\\x82Ã\\x82Â¢Ã\\x83Â\\x83Ã\\x82Â\\x83Ã\\x83Â\\x82Ã\\x82Â\\x82Ã\\x83Â\\x83Ã\\x82Â\\x82Ã\\x83Â\\x82Ã\\x82Â\\x80Ã\\x83Â\\x83Ã\\x82Â\\x83Ã\\x83Â\\x82Ã\\x82Â\\x82Ã\\x83Â\\x83Ã\\x82Â\\x82Ã\\x83Â\\x82Ã\\x82Â¦'"
      ]
     },
     "execution_count": 25,
     "metadata": {},
     "output_type": "execute_result"
    }
   ],
   "source": [
    "df.text[343]"
   ]
  },
  {
   "cell_type": "code",
   "execution_count": 26,
   "metadata": {},
   "outputs": [
    {
     "data": {
      "text/plain": [
       "'Is Faisle Ko Kabhi Tasleem Nahi Kia Jaye Ga Ã\\x83Â\\x83Ã\\x82Â\\x83Ã\\x83Â\\x82Ã\\x82Â\\x83Ã\\x83Â\\x83Ã\\x82Â\\x82Ã\\x83Â\\x82Ã\\x82Â¢Ã\\x83Â\\x83Ã\\x82Â\\x83Ã\\x83Â\\x82Ã\\x82Â\\x82Ã\\x83Â\\x83Ã\\x82Â\\x82Ã\\x83Â\\x82Ã\\x82Â\\x80Ã\\x83Â\\x83Ã\\x82Â\\x83Ã\\x83Â\\x82Ã\\x82Â\\x82Ã\\x83Â\\x83Ã\\x82Â\\x82Ã\\x83Â\\x82Ã\\x82Â\\x93 Nawaz Sharif Criticizing Panama CaseÃ\\x83Â\\x83Ã\\x82Â\\x83Ã\\x83Â\\x82Ã\\x82Â\\x83Ã\\x83Â\\x83Ã\\x82Â\\x82Ã\\x83Â\\x82Ã\\x82Â\\x82Ã\\x83Â\\x83Ã\\x82Â\\x83Ã\\x83Â\\x82Ã\\x82Â\\x82Ã\\x83Â\\x83Ã\\x82Â\\x82Ã\\x83Â\\x82Ã\\x82Â\\xa0Verdict https://dekhoworld.net/2017/08/25/is-faisle-ko-kabhi-tasleem-nahi-kia-jaye-ga-nawaz-sharif-criticizing-panama-case-verdict/Ã\\x83Â\\x83Ã\\x82Â\\x83Ã\\x83Â\\x82Ã\\x82Â\\x83Ã\\x83Â\\x83Ã\\x82Â\\x82Ã\\x83Â\\x82Ã\\x82Â\\x82Ã\\x83Â\\x83Ã\\x82Â\\x83Ã\\x83Â\\x82Ã\\x82Â\\x82Ã\\x83Â\\x83Ã\\x82Â\\x82Ã\\x83Â\\x82Ã\\x82Â\\xa0Ã\\x83Â\\x83Ã\\x82Â\\x83Ã\\x83Â\\x82Ã\\x82Â\\x83Ã\\x83Â\\x83Ã\\x82Â\\x82Ã\\x83Â\\x82Ã\\x82Â¢Ã\\x83Â\\x83Ã\\x82Â\\x83Ã\\x83Â\\x82Ã\\x82Â\\x82Ã\\x83Â\\x83Ã\\x82Â\\x82Ã\\x83Â\\x82Ã\\x82Â\\x80Ã\\x83Â\\x83Ã\\x82Â\\x83Ã\\x83Â\\x82Ã\\x82Â\\x82Ã\\x83Â\\x83Ã\\x82Â\\x82Ã\\x83Â\\x82Ã\\x82Â¦'"
      ]
     },
     "execution_count": 26,
     "metadata": {},
     "output_type": "execute_result"
    }
   ],
   "source": [
    "import re\n",
    "re.sub(r'@[A-Za-z0-9]+','',df.text[343])"
   ]
  },
  {
   "cell_type": "markdown",
   "metadata": {},
   "source": [
    "## Data Preparation 3: URL links"
   ]
  },
  {
   "cell_type": "code",
   "execution_count": 27,
   "metadata": {},
   "outputs": [
    {
     "data": {
      "text/plain": [
       "'people will give #panamaVerdict in NA_120 election.wether it was a fair-play or an arbitrary decision.turn of democracy on 17 sep #Pakistani'"
      ]
     },
     "execution_count": 27,
     "metadata": {},
     "output_type": "execute_result"
    }
   ],
   "source": [
    "df.text[0]"
   ]
  },
  {
   "cell_type": "code",
   "execution_count": 28,
   "metadata": {},
   "outputs": [
    {
     "data": {
      "text/plain": [
       "'people will give #panamaVerdict in NA_120 election.wether it was a fair-play or an arbitrary decision.turn of democracy on 17 sep #Pakistani'"
      ]
     },
     "execution_count": 28,
     "metadata": {},
     "output_type": "execute_result"
    }
   ],
   "source": [
    "re.sub('https?://[A-Za-z0-9./]+','',df.text[0])"
   ]
  },
  {
   "cell_type": "markdown",
   "metadata": {},
   "source": [
    "## Data Preparation 4: UTF-8 BOM (Byte Order Mark)"
   ]
  },
  {
   "cell_type": "code",
   "execution_count": 29,
   "metadata": {},
   "outputs": [
    {
     "data": {
      "text/plain": [
       "'Is Faisle Ko Kabhi Tasleem Nahi Kia Jaye Ga Ã\\x83Â\\x83Ã\\x82Â\\x83Ã\\x83Â\\x82Ã\\x82Â\\x83Ã\\x83Â\\x83Ã\\x82Â\\x82Ã\\x83Â\\x82Ã\\x82Â¢Ã\\x83Â\\x83Ã\\x82Â\\x83Ã\\x83Â\\x82Ã\\x82Â\\x82Ã\\x83Â\\x83Ã\\x82Â\\x82Ã\\x83Â\\x82Ã\\x82Â\\x80Ã\\x83Â\\x83Ã\\x82Â\\x83Ã\\x83Â\\x82Ã\\x82Â\\x82Ã\\x83Â\\x83Ã\\x82Â\\x82Ã\\x83Â\\x82Ã\\x82Â\\x93 Nawaz Sharif Criticizing Panama CaseÃ\\x83Â\\x83Ã\\x82Â\\x83Ã\\x83Â\\x82Ã\\x82Â\\x83Ã\\x83Â\\x83Ã\\x82Â\\x82Ã\\x83Â\\x82Ã\\x82Â\\x82Ã\\x83Â\\x83Ã\\x82Â\\x83Ã\\x83Â\\x82Ã\\x82Â\\x82Ã\\x83Â\\x83Ã\\x82Â\\x82Ã\\x83Â\\x82Ã\\x82Â\\xa0Verdict https://dekhoworld.net/2017/08/25/is-faisle-ko-kabhi-tasleem-nahi-kia-jaye-ga-nawaz-sharif-criticizing-panama-case-verdict/Ã\\x83Â\\x83Ã\\x82Â\\x83Ã\\x83Â\\x82Ã\\x82Â\\x83Ã\\x83Â\\x83Ã\\x82Â\\x82Ã\\x83Â\\x82Ã\\x82Â\\x82Ã\\x83Â\\x83Ã\\x82Â\\x83Ã\\x83Â\\x82Ã\\x82Â\\x82Ã\\x83Â\\x83Ã\\x82Â\\x82Ã\\x83Â\\x82Ã\\x82Â\\xa0Ã\\x83Â\\x83Ã\\x82Â\\x83Ã\\x83Â\\x82Ã\\x82Â\\x83Ã\\x83Â\\x83Ã\\x82Â\\x82Ã\\x83Â\\x82Ã\\x82Â¢Ã\\x83Â\\x83Ã\\x82Â\\x83Ã\\x83Â\\x82Ã\\x82Â\\x82Ã\\x83Â\\x83Ã\\x82Â\\x82Ã\\x83Â\\x82Ã\\x82Â\\x80Ã\\x83Â\\x83Ã\\x82Â\\x83Ã\\x83Â\\x82Ã\\x82Â\\x82Ã\\x83Â\\x83Ã\\x82Â\\x82Ã\\x83Â\\x82Ã\\x82Â¦'"
      ]
     },
     "execution_count": 29,
     "metadata": {},
     "output_type": "execute_result"
    }
   ],
   "source": [
    "df.text[343]"
   ]
  },
  {
   "cell_type": "code",
   "execution_count": 31,
   "metadata": {},
   "outputs": [
    {
     "data": {
      "text/plain": [
       "'Is Faisle Ko Kabhi Tasleem Nahi Kia Jaye Ga Ã\\x83Â\\x83Ã\\x82Â\\x83Ã\\x83Â\\x82Ã\\x82Â\\x83Ã\\x83Â\\x83Ã\\x82Â\\x82Ã\\x83Â\\x82Ã\\x82Â¢Ã\\x83Â\\x83Ã\\x82Â\\x83Ã\\x83Â\\x82Ã\\x82Â\\x82Ã\\x83Â\\x83Ã\\x82Â\\x82Ã\\x83Â\\x82Ã\\x82Â\\x80Ã\\x83Â\\x83Ã\\x82Â\\x83Ã\\x83Â\\x82Ã\\x82Â\\x82Ã\\x83Â\\x83Ã\\x82Â\\x82Ã\\x83Â\\x82Ã\\x82Â\\x93 Nawaz Sharif Criticizing Panama CaseÃ\\x83Â\\x83Ã\\x82Â\\x83Ã\\x83Â\\x82Ã\\x82Â\\x83Ã\\x83Â\\x83Ã\\x82Â\\x82Ã\\x83Â\\x82Ã\\x82Â\\x82Ã\\x83Â\\x83Ã\\x82Â\\x83Ã\\x83Â\\x82Ã\\x82Â\\x82Ã\\x83Â\\x83Ã\\x82Â\\x82Ã\\x83Â\\x82Ã\\x82Â\\xa0Verdict https://dekhoworld.net/2017/08/25/is-faisle-ko-kabhi-tasleem-nahi-kia-jaye-ga-nawaz-sharif-criticizing-panama-case-verdict/Ã\\x83Â\\x83Ã\\x82Â\\x83Ã\\x83Â\\x82Ã\\x82Â\\x83Ã\\x83Â\\x83Ã\\x82Â\\x82Ã\\x83Â\\x82Ã\\x82Â\\x82Ã\\x83Â\\x83Ã\\x82Â\\x83Ã\\x83Â\\x82Ã\\x82Â\\x82Ã\\x83Â\\x83Ã\\x82Â\\x82Ã\\x83Â\\x82Ã\\x82Â\\xa0Ã\\x83Â\\x83Ã\\x82Â\\x83Ã\\x83Â\\x82Ã\\x82Â\\x83Ã\\x83Â\\x83Ã\\x82Â\\x82Ã\\x83Â\\x82Ã\\x82Â¢Ã\\x83Â\\x83Ã\\x82Â\\x83Ã\\x83Â\\x82Ã\\x82Â\\x82Ã\\x83Â\\x83Ã\\x82Â\\x82Ã\\x83Â\\x82Ã\\x82Â\\x80Ã\\x83Â\\x83Ã\\x82Â\\x83Ã\\x83Â\\x82Ã\\x82Â\\x82Ã\\x83Â\\x83Ã\\x82Â\\x82Ã\\x83Â\\x82Ã\\x82Â¦'"
      ]
     },
     "execution_count": 31,
     "metadata": {},
     "output_type": "execute_result"
    }
   ],
   "source": [
    "testing = df.text[343].encode().decode(\"utf-8-sig\")\n",
    "testing"
   ]
  },
  {
   "cell_type": "code",
   "execution_count": 32,
   "metadata": {},
   "outputs": [
    {
     "data": {
      "text/plain": [
       "'Is Faisle Ko Kabhi Tasleem Nahi Kia Jaye Ga Ã\\x83Â\\x83Ã\\x82Â\\x83Ã\\x83Â\\x82Ã\\x82Â\\x83Ã\\x83Â\\x83Ã\\x82Â\\x82Ã\\x83Â\\x82Ã\\x82Â¢Ã\\x83Â\\x83Ã\\x82Â\\x83Ã\\x83Â\\x82Ã\\x82Â\\x82Ã\\x83Â\\x83Ã\\x82Â\\x82Ã\\x83Â\\x82Ã\\x82Â\\x80Ã\\x83Â\\x83Ã\\x82Â\\x83Ã\\x83Â\\x82Ã\\x82Â\\x82Ã\\x83Â\\x83Ã\\x82Â\\x82Ã\\x83Â\\x82Ã\\x82Â\\x93 Nawaz Sharif Criticizing Panama CaseÃ\\x83Â\\x83Ã\\x82Â\\x83Ã\\x83Â\\x82Ã\\x82Â\\x83Ã\\x83Â\\x83Ã\\x82Â\\x82Ã\\x83Â\\x82Ã\\x82Â\\x82Ã\\x83Â\\x83Ã\\x82Â\\x83Ã\\x83Â\\x82Ã\\x82Â\\x82Ã\\x83Â\\x83Ã\\x82Â\\x82Ã\\x83Â\\x82Ã\\x82Â\\xa0Verdict https://dekhoworld.net/2017/08/25/is-faisle-ko-kabhi-tasleem-nahi-kia-jaye-ga-nawaz-sharif-criticizing-panama-case-verdict/Ã\\x83Â\\x83Ã\\x82Â\\x83Ã\\x83Â\\x82Ã\\x82Â\\x83Ã\\x83Â\\x83Ã\\x82Â\\x82Ã\\x83Â\\x82Ã\\x82Â\\x82Ã\\x83Â\\x83Ã\\x82Â\\x83Ã\\x83Â\\x82Ã\\x82Â\\x82Ã\\x83Â\\x83Ã\\x82Â\\x82Ã\\x83Â\\x82Ã\\x82Â\\xa0Ã\\x83Â\\x83Ã\\x82Â\\x83Ã\\x83Â\\x82Ã\\x82Â\\x83Ã\\x83Â\\x83Ã\\x82Â\\x82Ã\\x83Â\\x82Ã\\x82Â¢Ã\\x83Â\\x83Ã\\x82Â\\x83Ã\\x83Â\\x82Ã\\x82Â\\x82Ã\\x83Â\\x83Ã\\x82Â\\x82Ã\\x83Â\\x82Ã\\x82Â\\x80Ã\\x83Â\\x83Ã\\x82Â\\x83Ã\\x83Â\\x82Ã\\x82Â\\x82Ã\\x83Â\\x83Ã\\x82Â\\x82Ã\\x83Â\\x82Ã\\x82Â¦'"
      ]
     },
     "execution_count": 32,
     "metadata": {},
     "output_type": "execute_result"
    }
   ],
   "source": [
    "testing.replace(u\"\\ufffd\", \"?\")"
   ]
  },
  {
   "cell_type": "markdown",
   "metadata": {},
   "source": [
    "## Data Preparation 5: hashtag / numbers"
   ]
  },
  {
   "cell_type": "code",
   "execution_count": 33,
   "metadata": {},
   "outputs": [
    {
     "data": {
      "text/plain": [
       "'Nawaz files another review petition in SC against Panama verdictÃ\\x83Â\\x83Ã\\x82Â\\x83Ã\\x83Â\\x82Ã\\x82Â\\x83Ã\\x83Â\\x83Ã\\x82Â\\x82Ã\\x83Â\\x82Ã\\x82Â¢Ã\\x83Â\\x83Ã\\x82Â\\x83Ã\\x83Â\\x82Ã\\x82Â\\x82Ã\\x83Â\\x83Ã\\x82Â\\x82Ã\\x83Â\\x82Ã\\x82Â\\x80Ã\\x83Â\\x83Ã\\x82Â\\x83Ã\\x83Â\\x82Ã\\x82Â\\x82Ã\\x83Â\\x83Ã\\x82Â\\x82Ã\\x83Â\\x82Ã\\x82Â\\x93Ã\\x83Â\\x83Ã\\x82Â\\x83Ã\\x83Â\\x82Ã\\x82Â\\x83Ã\\x83Â\\x83Ã\\x82Â\\x82Ã\\x83Â\\x82Ã\\x82Â\\x82Ã\\x83Â\\x83Ã\\x82Â\\x83Ã\\x83Â\\x82Ã\\x82Â\\x82Ã\\x83Â\\x83Ã\\x82Â\\x82Ã\\x83Â\\x82Ã\\x82Â\\xa0Article http://newshindi.info/nawaz-files-another-review-petition-in-sc-against-panama-verdict-article/251187Ã\\x83Â\\x83Ã\\x82Â\\x83Ã\\x83Â\\x82Ã\\x82Â\\x83Ã\\x83Â\\x83Ã\\x82Â\\x82Ã\\x83Â\\x82Ã\\x82Â\\x82Ã\\x83Â\\x83Ã\\x82Â\\x83Ã\\x83Â\\x82Ã\\x82Â\\x82Ã\\x83Â\\x83Ã\\x82Â\\x82Ã\\x83Â\\x82Ã\\x82Â\\xa0Ã\\x83Â\\x83Ã\\x82Â\\x83Ã\\x83Â\\x82Ã\\x82Â\\x83Ã\\x83Â\\x83Ã\\x82Â\\x82Ã\\x83Â\\x82Ã\\x82Â¢Ã\\x83Â\\x83Ã\\x82Â\\x83Ã\\x83Â\\x82Ã\\x82Â\\x82Ã\\x83Â\\x83Ã\\x82Â\\x82Ã\\x83Â\\x82Ã\\x82Â\\x80Ã\\x83Â\\x83Ã\\x82Â\\x83Ã\\x83Â\\x82Ã\\x82Â\\x82Ã\\x83Â\\x83Ã\\x82Â\\x82Ã\\x83Â\\x82Ã\\x82Â¦pic.twitter.com/jmLT9BKlxa'"
      ]
     },
     "execution_count": 33,
     "metadata": {},
     "output_type": "execute_result"
    }
   ],
   "source": [
    "df.text[175]"
   ]
  },
  {
   "cell_type": "code",
   "execution_count": 34,
   "metadata": {},
   "outputs": [
    {
     "data": {
      "text/plain": [
       "'Nawaz files another review petition in SC against Panama verdict                                                                                                                                                                Article http   newshindi info nawaz files another review petition in sc against panama verdict article                                                                                                                                                                       pic twitter com jmLT BKlxa'"
      ]
     },
     "execution_count": 34,
     "metadata": {},
     "output_type": "execute_result"
    }
   ],
   "source": [
    "re.sub(\"[^a-zA-Z]\", \" \", df.text[175])"
   ]
  },
  {
   "cell_type": "markdown",
   "metadata": {},
   "source": [
    "# Defining data cleaning function"
   ]
  },
  {
   "cell_type": "code",
   "execution_count": 35,
   "metadata": {},
   "outputs": [],
   "source": [
    "from nltk.tokenize import WordPunctTokenizer\n",
    "tok = WordPunctTokenizer()"
   ]
  },
  {
   "cell_type": "code",
   "execution_count": 36,
   "metadata": {},
   "outputs": [],
   "source": [
    "pat1 = r'@[A-Za-z0-9]+'\n",
    "pat2 = r'https?://[A-Za-z0-9./]+'\n",
    "combined_pat = r'|'.join((pat1, pat2))\n",
    "\n",
    "def tweet_cleaner(text):\n",
    "    soup = BeautifulSoup(text, 'lxml')\n",
    "    souped = soup.get_text()\n",
    "    stripped = re.sub(combined_pat, '', souped)\n",
    "    try:\n",
    "        clean = stripped.decode(\"utf-8-sig\").replace(u\"\\ufffd\", \"?\")\n",
    "    except:\n",
    "        clean = stripped\n",
    "    letters_only = re.sub(\"[^a-zA-Z]\", \" \", clean)\n",
    "    lower_case = letters_only.lower()\n",
    "    # During the letters_only process two lines above, it has created unnecessay white spaces,\n",
    "    # I will tokenize and join together to remove unneccessary white spaces\n",
    "    words = tok.tokenize(lower_case)\n",
    "    return (\" \".join(words)).strip()"
   ]
  },
  {
   "cell_type": "code",
   "execution_count": 37,
   "metadata": {},
   "outputs": [],
   "source": [
    "testing = df.text[:100]"
   ]
  },
  {
   "cell_type": "code",
   "execution_count": 38,
   "metadata": {},
   "outputs": [],
   "source": [
    "test_result = []\n",
    "for t in testing:\n",
    "    test_result.append(tweet_cleaner(t))"
   ]
  },
  {
   "cell_type": "code",
   "execution_count": 39,
   "metadata": {},
   "outputs": [
    {
     "data": {
      "text/plain": [
       "['people will give panamaverdict in na election wether it was a fair play or an arbitrary decision turn of democracy on sep pakistani',\n",
       " 'u r just a barking dog where did panama expose corruption any evidence or verdict',\n",
       " 'it is clear from maryam nawaz s bitter na campaign speech that sharifs are fighting a lost battle public has endorsed panama verdict',\n",
       " 'nab references triggered by panama verdict are hanging over sharifs like sword of damocles be in london or lahore the family isn t safe',\n",
       " 'jaise motu gang k saath hua tha he didn t accept he challanged the verdict sharjeelkhan panamaverdict',\n",
       " 'salute to judges like justice asif saeed khosa who stood up against this criminal mafia keep on burning it won t change panama verdict',\n",
       " 'show me the money panamaverdict',\n",
       " 'tum to thahre pardesi saath kia nibhao gay siasatpk eidulazha shariffamily panamaverdict pakistanstyle pardesi aajkaagendapic twitter com v ywzswiz',\n",
       " 'ma am why u and ur family are hiding from media aftr panama verdict u don t hve the courage to face and answr',\n",
       " 'after hearing his remarks in panama case and his initial verdict i had very good image of j ijazul ahsan',\n",
       " 'stopattackingjudiciary trump indialostpmlninvestme panamaverdict justicekhosa pakistan dramasharif rain',\n",
       " 'stopattackingjudiciary trump indialostpmlninvestme panamaverdict justicekhosa dramasharif maryamandbhensa',\n",
       " 'stopattackingjudiciary trump indialostpmlninvestme panamaverdict justicekhosa sarahaha dramasharif arynews',\n",
       " 'stopattackingjudiciary trump indialostpmlninvestme panamaverdict justicekhosa sarahaha dramasharif arynews',\n",
       " 'stopattackingjudiciary trump indialostpmlninvestme panamaverdict justicekhosa sarahaha dramaalert arynews',\n",
       " 'stopattackingjudiciary trump indialostpmlninvestme panamaverdict justicekhosa dramaalert rain panama twitter ki cheeti status',\n",
       " 'panamaverdict pti pmlnpic twitter com ccdeipjjtl',\n",
       " 'stopattackingjudiciary trump indialostpmlninvestme panamaverdict justicekhosa sarahaha dramasharif arynews',\n",
       " 'dramasharif may b the panama verdict was not that strong enough to stop him pic twitter com dufj fowou',\n",
       " 'panamapapers part two and in mandarin this time panamaverdict panamacase dramasharif twitter com imrankhanpti status',\n",
       " 'pray for justice khosa justicekhosa ourhero panamaverdict pic twitter com hemnf ejr',\n",
       " 'is the button looks like this stay blessed and stay safe dramashareef dhabardhoos panamaverdict pic twitter com y ryoxpcxm',\n",
       " 'justicekhosa sc mns panamaverdict ayeshagulalai imrankhanpti na pic twitter com dg cs kih',\n",
       " 'na welcomesmaryam panamaverdict pic twitter com mdnnzn q',\n",
       " 'nab has destroyed institutions say supremecourt is judicial coup in the offing against khosa and co panamaverdict nab has destroyed institutions says sc status',\n",
       " 'a shell company at that which was used as a vehicle to launder plundered wealth long live corruption panamaverdict mujhekiounnikala',\n",
       " 'ik s philosophical words on the eve of the panama verdict agar mei jeet gya to ye qoum ki jeet ho gi agar har gya to mere pas harne ko',\n",
       " 'forced by his family friends to resign on time too much time and resources are still getting stolen and wasted everyday panamaverdict',\n",
       " 'does the panama verdict need to be reviewed the verdict corruptioncharges moneylaundering nawazsharif maryamnawazpic twitter com nxeoflhwwz',\n",
       " 'does the panama verdict need to be reviewed the verdict corruptioncharges moneylaundering nawazsharif maryamnawazpic twitter com zrapxzntut',\n",
       " 'nawaz panamaverdict panamapapers kulsoomnawaz maryamnawaz london shahbazsharif piapic twitter com urf rctz',\n",
       " 'nawaz sharif said after panama verdict app loog vote detay hain aur judges phaar ker hath main day detay hain lol',\n",
       " 'thank you panamaverdict',\n",
       " 'situation in the judges chamber inside supreme court of pakistan just before the panama verdict pic twitter com l qrtgqk',\n",
       " 'different schemes and characters to destabilise pakistan and cpec coming into light pmln panamaverdict whos pulling strings of chinese company',\n",
       " 'umar sir have u proposed amendment in income tax laws so that gifts can be taxable too following panamaverdict i think pti shud do it',\n",
       " 'nuclear program was started by za bhutto and completed by zia s regime just telling panamaverdict',\n",
       " 'he was supposed to resign after panama verdict qaum ko pagal banaya howa hay inn logon nay urdu status',\n",
       " 'danial aziz sahib please wait for panama verdict as well your leader has not been cleared from that only refer to another court for verdict',\n",
       " 'mam i want ask when pakistan does verdict on panama papers pm resigned after he illegal documents why does justice delay in our country',\n",
       " 'true crime the scent of french scandal corruption mafia panamaverdict aml moneylaundering politics june story ignatius mayjun html',\n",
       " 'elf system of corruption explained by panamaverdict ns hblpic twitter com uantax fgc',\n",
       " 'nab must be renamed as jit due to its excellent performance in panamaverdict nab staff to be brought under jit from now on',\n",
       " 'sir so you agree that all these are wines but different bottles incl ik as after panama verdict we still r looking for a change bt nothin',\n",
       " 'all salute panamaverdict official ghq ecl confiscate nawaz assets loot zardari pti status',\n",
       " 'a weaker country just pulled out a panama verdict',\n",
       " 'same pro pmln tweets before panama verdict but alas',\n",
       " 'panamaverdict damaged pml n collectively but maryam nawaz s political career has been largely compromised battle for former first daughter',\n",
       " 'maryamnawaz is again active after panamaverdict so fight is still on',\n",
       " 'panamaverdict nab still to probe into the matters delaying tactics and now habib bank usa money laundry case of shareef s pic twitter com irmwwhtupi',\n",
       " 'i liked a video a sonu song after panama verdict karachi vynz official',\n",
       " 'how come pakistan doesn t figure in it panamaverdict',\n",
       " 'even the ppp loyalists are astounded at zardari s aquital nab is undoing the bravery wisdom shown by the scp jit in panama verdict',\n",
       " 'justice mario puzo have heart attack may he recover soon behind every great disease there is moral burden panamaverdict',\n",
       " 'bringing religion into politics good try maryamnawaz panamaverdict',\n",
       " 'pakistan s anti graft watchdog to file cases against nawazsharifs ishaqdar antigraft watchdog to file cases against vpf tid panamaverdict panamapapers',\n",
       " 'stopattackingjudiciary trump indialostpmlninvestme panamaverdict justicekhosa sarahaha',\n",
       " 'stopattackingjudiciary trump indialostpmlninvestme panamaverdict justicekhosa sarahaha gameofthrones arynews',\n",
       " 'no comments justicekhosa panamaverdict jit wajidziapic twitter com rxo ypuuhd',\n",
       " 'if gurmeetramrahimsingh gets started to say mjhy q niikala pmln panamaverdict',\n",
       " 'a senior leader and pml n mna from lahore is not ready to defend the sharifs over panama papers and panama case verdict guess who',\n",
       " 'a senior leader and pml n mna from lahore is not ready to defend the sharifs over panama papers and panama case verdict guess who',\n",
       " 'panama case verdict ruled by supreme court to be fully implemented nab chairman front panama case verdict ruled by supreme court to be fully implemented nab chairman pic twitter com b w wsgs',\n",
       " 'panama case verdict ruled by supreme court to be fully implemented nab chairman front panama case verdict ruled by supreme court to be fully implemented nab chairman pic twitter com uz voqusz',\n",
       " 'panama case verdict ruled by supreme court to be fully implemented nab chairman case verdict ruled by supreme court to be fully implemented nab chairman pakistanpic twitter com a uadxcrnc',\n",
       " 'panama case verdict ruled by supreme court to be fully implemented nab chairman case verdict ruled by supreme court to be fully implemented nab chairman',\n",
       " 'panama case verdict ruled by supreme court to be fully implemented nab chairman pic twitter com xsbjgntqqf',\n",
       " 'chairman psp mustafa kamal s media talk after panama verdict th july hqcm a via',\n",
       " 'i added a video to a playlist hqcm a chairman psp mustafa kamal s media talk after panama verdict th',\n",
       " 'if people of na are still going to vote org after panama verdict then we are ill minded nation na forpti',\n",
       " 'plmn panamaverdict punjabnahijaungipic twitter com vlhny oi',\n",
       " 'pakistan political turmoil muddies investment outlook billions wiped off stock market aftr disputed panama verdict',\n",
       " 'panama case verdict ruled by sc to be fully implemented nab chairman dunyanews pakistan',\n",
       " 'panama case verdict ruled by sc to be fully implemented nab chairman dunyanews pakistan iftttpic twitter com dkmlcpsip',\n",
       " 'panama case verdict ruled by sc to be fully implemented nab chairman dunyanews pakistan pic twitter com qnmxv em',\n",
       " 'truth behind panama verdict ahmad status',\n",
       " 'panama case verdict ruled by sc to be fully implemented nab chairmandunya',\n",
       " 'i may have sympathy for ns my view is the same what dawn s editorial said after july verdict on panama',\n",
       " 'such a shame using islam to achieve the political gains of pat let the praise rolling for judiciary after panama verdict pic twitter com tr zf vot',\n",
       " 'rt juhimoin na forpti lashed out at the ruling party for terming the supreme court verdict in panama leaks case unfair',\n",
       " 'rt juhimoin na forpti lashed out at the ruling party for terming the supreme court verdict in panama leaks case unfair',\n",
       " 'rt juhimoin na forpti lashed out at the ruling party for terming the supreme court verdict in panama leaks case unfair',\n",
       " 'rt juhimoin na forpti lashed out at the ruling party for terming the supreme court verdict in panama leaks case unfair',\n",
       " 'panama case verdict ruled by sc to be fully implemented nab chairman pic twitter com s ixvvulys',\n",
       " 'rt juhimoin na forpti lashed out at the ruling party for terming the supreme court verdict in panama leaks case unfair',\n",
       " 'rt juhimoin na forpti lashed out at the ruling party for terming the supreme court verdict in panama leaks case unfair',\n",
       " 'rt juhimoin na forpti lashed out at the ruling party for terming the supreme court verdict in panama leaks case unfair',\n",
       " 'na forpti lashed out at the ruling party for terming the supreme court verdict in panama leaks case unfair',\n",
       " 'na forpti lashed out at the ruling party for terming the supreme court verdict in panama leaks case unfair',\n",
       " 'na forpti lashed out at the ruling party for terming the supreme court verdict in panama leaks case unfair',\n",
       " 'na forpti lashed out at the ruling party for terming the supreme court verdict in panama leaks case unfair',\n",
       " 'na forpti lashed out at the ruling party for terming the supreme court verdict in panama leaks case unfair',\n",
       " 'na forpti lashed out at the ruling party for terming the supreme court verdict in panama leaks case unfair',\n",
       " 'na forpti lashed out at the ruling party for terming the supreme court verdict in panama leaks case unfair',\n",
       " 'na forpti lashed out at the ruling party for terming the supreme court verdict in panama leaks case unfair',\n",
       " 'rt syeda hon if people of na are still going to vote pml n after panama verdict then we are ill minded nation na forpti',\n",
       " 'rt syeda hon if people of na are still going to vote pml n after panama verdict then we are ill minded nation na forpti',\n",
       " 'rt syeda hon if people of na are still going to vote pml n after panama verdict then we are ill minded nation na forpti',\n",
       " 'rt syeda hon if people of na are still going to vote pml n after panama verdict then we are ill minded nation na forpti',\n",
       " 'rt syeda hon if people of na are still going to vote pml n after panama verdict then we are ill minded nation na forpti']"
      ]
     },
     "execution_count": 39,
     "metadata": {},
     "output_type": "execute_result"
    }
   ],
   "source": [
    "test_result"
   ]
  },
  {
   "cell_type": "code",
   "execution_count": 41,
   "metadata": {},
   "outputs": [],
   "source": [
    "nums = [0,200000,400000,600000,800000,966201]"
   ]
  },
  {
   "cell_type": "code",
   "execution_count": 43,
   "metadata": {},
   "outputs": [
    {
     "name": "stdout",
     "output_type": "stream",
     "text": [
      "Cleaning and parsing the tweets...\n",
      "\n",
      "Tweets 10000 of 200000 has been processed\n",
      "Tweets 20000 of 200000 has been processed\n",
      "Tweets 30000 of 200000 has been processed\n",
      "Tweets 40000 of 200000 has been processed\n",
      "Tweets 50000 of 200000 has been processed\n",
      "Tweets 60000 of 200000 has been processed\n",
      "Tweets 70000 of 200000 has been processed\n",
      "Tweets 80000 of 200000 has been processed\n",
      "Tweets 90000 of 200000 has been processed\n",
      "Tweets 100000 of 200000 has been processed\n",
      "Tweets 110000 of 200000 has been processed\n"
     ]
    },
    {
     "name": "stderr",
     "output_type": "stream",
     "text": [
      "/home/alizeb/.local/lib/python3.5/site-packages/bs4/__init__.py:282: UserWarning: \"https://www.youtube.com/watch?v=FNwikykIuUEÃÂÃÂÃÂÃÂÃÂÃÂÃÂÃÂ ÃÂÃÂÃÂÃÂ¢ÃÂÃÂÃÂÃÂÃÂÃÂÃÂÃÂ¦\n",
      "#Loadshedding\" looks like a URL. Beautiful Soup is not an HTTP client. You should probably use an HTTP client like requests to get the document behind the URL, and feed that document to Beautiful Soup.\n",
      "  ' that document to Beautiful Soup.' % decoded_markup\n"
     ]
    },
    {
     "name": "stdout",
     "output_type": "stream",
     "text": [
      "Tweets 120000 of 200000 has been processed\n"
     ]
    },
    {
     "name": "stderr",
     "output_type": "stream",
     "text": [
      "/home/alizeb/.local/lib/python3.5/site-packages/bs4/__init__.py:282: UserWarning: \"https://www.facebook.com/shafaatalisyed/videos/1312503175524463/ÃÂÃÂÃÂÃÂÃÂÃÂÃÂÃÂ ÃÂÃÂÃÂÃÂ¢ÃÂÃÂÃÂÃÂÃÂÃÂÃÂÃÂ¦\n",
      "#Loadshedding\" looks like a URL. Beautiful Soup is not an HTTP client. You should probably use an HTTP client like requests to get the document behind the URL, and feed that document to Beautiful Soup.\n",
      "  ' that document to Beautiful Soup.' % decoded_markup\n",
      "/home/alizeb/.local/lib/python3.5/site-packages/bs4/__init__.py:282: UserWarning: \"https://m.facebook.com/story.php?story_fbid=814141582066396&id=100004116858712ÃÂÃÂÃÂÃÂÃÂÃÂÃÂÃÂ ÃÂÃÂÃÂÃÂ¢ÃÂÃÂÃÂÃÂÃÂÃÂÃÂÃÂ¦\n",
      "#Loadshedding\" looks like a URL. Beautiful Soup is not an HTTP client. You should probably use an HTTP client like requests to get the document behind the URL, and feed that document to Beautiful Soup.\n",
      "  ' that document to Beautiful Soup.' % decoded_markup\n"
     ]
    },
    {
     "name": "stdout",
     "output_type": "stream",
     "text": [
      "Tweets 130000 of 200000 has been processed\n",
      "Tweets 140000 of 200000 has been processed\n",
      "Tweets 150000 of 200000 has been processed\n",
      "Tweets 160000 of 200000 has been processed\n",
      "Tweets 170000 of 200000 has been processed\n",
      "Tweets 180000 of 200000 has been processed\n"
     ]
    },
    {
     "name": "stderr",
     "output_type": "stream",
     "text": [
      "/home/alizeb/.local/lib/python3.5/site-packages/bs4/__init__.py:282: UserWarning: \"http://nea.org.np/schedule/NEALoadshedding_beta.apkÃÂÃÂÃÂÃÂÃÂÃÂÃÂÃÂ ÃÂÃÂÃÂÃÂ¢ÃÂÃÂÃÂÃÂÃÂÃÂÃÂÃÂ¦\n",
      "#loadshedding_schedule_for_android\" looks like a URL. Beautiful Soup is not an HTTP client. You should probably use an HTTP client like requests to get the document behind the URL, and feed that document to Beautiful Soup.\n",
      "  ' that document to Beautiful Soup.' % decoded_markup\n",
      "/home/alizeb/.local/lib/python3.5/site-packages/bs4/__init__.py:282: UserWarning: \"http://nea.org.np/images/supportive_docs/3349loadshedding.pdfÃÂÃÂÃÂÃÂÃÂÃÂÃÂÃÂ ÃÂÃÂÃÂÃÂ¢ÃÂÃÂÃÂÃÂÃÂÃÂÃÂÃÂ¦\n",
      "#loadshedding_schedule_pdf_file\" looks like a URL. Beautiful Soup is not an HTTP client. You should probably use an HTTP client like requests to get the document behind the URL, and feed that document to Beautiful Soup.\n",
      "  ' that document to Beautiful Soup.' % decoded_markup\n"
     ]
    },
    {
     "name": "stdout",
     "output_type": "stream",
     "text": [
      "Tweets 190000 of 200000 has been processed\n"
     ]
    },
    {
     "name": "stderr",
     "output_type": "stream",
     "text": [
      "/home/alizeb/.local/lib/python3.5/site-packages/bs4/__init__.py:282: UserWarning: \"https://www.youtube.com/watch?v=TGyk4yWvKtQÃÂÃÂÃÂÃÂÃÂÃÂÃÂÃÂ ÃÂÃÂÃÂÃÂ¢ÃÂÃÂÃÂÃÂÃÂÃÂÃÂÃÂ¦\n",
      "#TwitterCabinet\n",
      "#RIPChabane\n",
      "#HumanRightsDay\n",
      "Cheetahs\n",
      "#loadshedding\n",
      "#InclusiveCity\" looks like a URL. Beautiful Soup is not an HTTP client. You should probably use an HTTP client like requests to get the document behind the URL, and feed that document to Beautiful Soup.\n",
      "  ' that document to Beautiful Soup.' % decoded_markup\n"
     ]
    },
    {
     "name": "stdout",
     "output_type": "stream",
     "text": [
      "Tweets 200000 of 200000 has been processed\n",
      "CPU times: user 56.4 s, sys: 712 ms, total: 57.1 s\n",
      "Wall time: 57.1 s\n"
     ]
    }
   ],
   "source": [
    "%%time\n",
    "print(\"Cleaning and parsing the tweets...\\n\")\n",
    "clean_tweet_texts = []\n",
    "for i in range(nums[0],nums[1]):\n",
    "    if( (i+1)%10000 == 0 ):\n",
    "        print(\"Tweets %d of %d has been processed\" % ( i+1, nums[1] ))\n",
    "    clean_tweet_texts.append(tweet_cleaner(df['text'][i]))"
   ]
  },
  {
   "cell_type": "code",
   "execution_count": 44,
   "metadata": {},
   "outputs": [
    {
     "data": {
      "text/plain": [
       "200000"
      ]
     },
     "execution_count": 44,
     "metadata": {},
     "output_type": "execute_result"
    }
   ],
   "source": [
    "len(clean_tweet_texts)"
   ]
  },
  {
   "cell_type": "code",
   "execution_count": 46,
   "metadata": {},
   "outputs": [
    {
     "name": "stdout",
     "output_type": "stream",
     "text": [
      "Cleaning and parsing the tweets...\n",
      "\n",
      "Tweets 210000 of 400000 has been processed\n",
      "Tweets 220000 of 400000 has been processed\n",
      "Tweets 230000 of 400000 has been processed\n",
      "Tweets 240000 of 400000 has been processed\n",
      "Tweets 250000 of 400000 has been processed\n",
      "Tweets 260000 of 400000 has been processed\n"
     ]
    },
    {
     "name": "stderr",
     "output_type": "stream",
     "text": [
      "/home/alizeb/.local/lib/python3.5/site-packages/bs4/__init__.py:282: UserWarning: \"http://www.iol.co.za/business/news/insurance-claims-spike-over-power-cut-harm-1.1880426#.VZfV3PmqqkoÃÂÃÂÃÂÃÂÃÂÃÂÃÂÃÂ ÃÂÃÂÃÂÃÂ¢ÃÂÃÂÃÂÃÂÃÂÃÂÃÂÃÂ¦\n",
      "#loadshedding\" looks like a URL. Beautiful Soup is not an HTTP client. You should probably use an HTTP client like requests to get the document behind the URL, and feed that document to Beautiful Soup.\n",
      "  ' that document to Beautiful Soup.' % decoded_markup\n"
     ]
    },
    {
     "name": "stdout",
     "output_type": "stream",
     "text": [
      "Tweets 270000 of 400000 has been processed\n",
      "Tweets 280000 of 400000 has been processed\n",
      "Tweets 290000 of 400000 has been processed\n",
      "Tweets 300000 of 400000 has been processed\n",
      "Tweets 310000 of 400000 has been processed\n",
      "Tweets 320000 of 400000 has been processed\n",
      "Tweets 330000 of 400000 has been processed\n",
      "Tweets 340000 of 400000 has been processed\n",
      "Tweets 350000 of 400000 has been processed\n",
      "Tweets 360000 of 400000 has been processed\n",
      "Tweets 370000 of 400000 has been processed\n",
      "Tweets 380000 of 400000 has been processed\n",
      "Tweets 390000 of 400000 has been processed\n",
      "Tweets 400000 of 400000 has been processed\n",
      "CPU times: user 56.6 s, sys: 684 ms, total: 57.3 s\n",
      "Wall time: 57.4 s\n"
     ]
    }
   ],
   "source": [
    "%%time\n",
    "print(\"Cleaning and parsing the tweets...\\n\")\n",
    "for i in range(nums[1],nums[2]):\n",
    "    if( (i+1)%10000 == 0 ):\n",
    "        print(\"Tweets %d of %d has been processed\" % ( i+1, nums[2] ))                                                                    \n",
    "    clean_tweet_texts.append(tweet_cleaner(df['text'][i]))"
   ]
  },
  {
   "cell_type": "code",
   "execution_count": 49,
   "metadata": {},
   "outputs": [
    {
     "data": {
      "text/plain": [
       "400000"
      ]
     },
     "execution_count": 49,
     "metadata": {},
     "output_type": "execute_result"
    }
   ],
   "source": [
    "len(clean_tweet_texts)"
   ]
  },
  {
   "cell_type": "code",
   "execution_count": 50,
   "metadata": {},
   "outputs": [
    {
     "name": "stdout",
     "output_type": "stream",
     "text": [
      "Cleaning and parsing the tweets...\n",
      "\n",
      "Tweets 410000 of 600000 has been processed\n",
      "Tweets 420000 of 600000 has been processed\n",
      "Tweets 430000 of 600000 has been processed\n",
      "Tweets 440000 of 600000 has been processed\n",
      "Tweets 450000 of 600000 has been processed\n",
      "Tweets 460000 of 600000 has been processed\n"
     ]
    },
    {
     "name": "stderr",
     "output_type": "stream",
     "text": [
      "/home/alizeb/.local/lib/python3.5/site-packages/bs4/__init__.py:282: UserWarning: \"https://larouchepac.com/20161209/new-era-united-statesÃÂÃÂÃÂÃÂÃÂÃÂÃÂÃÂÃÂÃÂÃÂÃÂÃÂÃÂÃÂÃÂ ÃÂÃÂÃÂÃÂÃÂÃÂÃÂÃÂ¢ÃÂÃÂÃÂÃÂÃÂÃÂÃÂÃÂÃÂÃÂÃÂÃÂÃÂÃÂÃÂÃÂ¦pic.twitter.com/n9WiTCgGUq\" looks like a URL. Beautiful Soup is not an HTTP client. You should probably use an HTTP client like requests to get the document behind the URL, and feed that document to Beautiful Soup.\n",
      "  ' that document to Beautiful Soup.' % decoded_markup\n"
     ]
    },
    {
     "name": "stdout",
     "output_type": "stream",
     "text": [
      "Tweets 470000 of 600000 has been processed\n",
      "Tweets 480000 of 600000 has been processed\n"
     ]
    },
    {
     "name": "stderr",
     "output_type": "stream",
     "text": [
      "/home/alizeb/.local/lib/python3.5/site-packages/bs4/__init__.py:282: UserWarning: \"http://dailytehreek.com/popup/?img=2686ÃÂÃÂÃÂÃÂÃÂÃÂÃÂÃÂÃÂÃÂÃÂÃÂÃÂÃÂÃÂÃÂ pic.twitter.com/ZTehcAM65C\" looks like a URL. Beautiful Soup is not an HTTP client. You should probably use an HTTP client like requests to get the document behind the URL, and feed that document to Beautiful Soup.\n",
      "  ' that document to Beautiful Soup.' % decoded_markup\n"
     ]
    },
    {
     "name": "stdout",
     "output_type": "stream",
     "text": [
      "Tweets 490000 of 600000 has been processed\n",
      "Tweets 500000 of 600000 has been processed\n",
      "Tweets 510000 of 600000 has been processed\n",
      "Tweets 520000 of 600000 has been processed\n",
      "Tweets 530000 of 600000 has been processed\n",
      "Tweets 540000 of 600000 has been processed\n",
      "Tweets 550000 of 600000 has been processed\n",
      "Tweets 560000 of 600000 has been processed\n",
      "Tweets 570000 of 600000 has been processed\n",
      "Tweets 580000 of 600000 has been processed\n",
      "Tweets 590000 of 600000 has been processed\n",
      "Tweets 600000 of 600000 has been processed\n",
      "CPU times: user 1min 3s, sys: 600 ms, total: 1min 3s\n",
      "Wall time: 1min 4s\n"
     ]
    }
   ],
   "source": [
    "%%time\n",
    "print(\"Cleaning and parsing the tweets...\\n\")\n",
    "for i in range(nums[2],nums[3]):\n",
    "    if( (i+1)%10000 == 0 ):\n",
    "        print(\"Tweets %d of %d has been processed\" % ( i+1, nums[3] ))                                                                    \n",
    "    clean_tweet_texts.append(tweet_cleaner(df['text'][i]))"
   ]
  },
  {
   "cell_type": "code",
   "execution_count": 51,
   "metadata": {},
   "outputs": [
    {
     "data": {
      "text/plain": [
       "600000"
      ]
     },
     "execution_count": 51,
     "metadata": {},
     "output_type": "execute_result"
    }
   ],
   "source": [
    "len(clean_tweet_texts)"
   ]
  },
  {
   "cell_type": "code",
   "execution_count": 52,
   "metadata": {},
   "outputs": [
    {
     "name": "stdout",
     "output_type": "stream",
     "text": [
      "Cleaning and parsing the tweets...\n",
      "\n",
      "Tweets 610000 of 966201 has been processed\n",
      "Tweets 620000 of 966201 has been processed\n",
      "Tweets 630000 of 966201 has been processed\n",
      "Tweets 640000 of 966201 has been processed\n",
      "Tweets 650000 of 966201 has been processed\n",
      "Tweets 660000 of 966201 has been processed\n"
     ]
    },
    {
     "name": "stderr",
     "output_type": "stream",
     "text": [
      "/home/alizeb/.local/lib/python3.5/site-packages/bs4/__init__.py:282: UserWarning: \"http://bit.ly/2o5A0q7ÃÂÃÂÃÂÃÂÃÂÃÂÃÂÃÂÃÂÃÂÃÂÃÂÃÂÃÂÃÂÃÂ \n",
      "#SusanRice\n",
      "#FelizLunes\n",
      "#PanamaPapers\n",
      "#4corners\n",
      "#9Married\n",
      "#OneNation\n",
      "#ThisIsMyCrew\n",
      "#Wrestlemania\n",
      "#TheBachelorNZ\n",
      "#ipl\" looks like a URL. Beautiful Soup is not an HTTP client. You should probably use an HTTP client like requests to get the document behind the URL, and feed that document to Beautiful Soup.\n",
      "  ' that document to Beautiful Soup.' % decoded_markup\n"
     ]
    },
    {
     "name": "stdout",
     "output_type": "stream",
     "text": [
      "Tweets 670000 of 966201 has been processed\n",
      "Tweets 680000 of 966201 has been processed\n",
      "Tweets 690000 of 966201 has been processed\n",
      "Tweets 700000 of 966201 has been processed\n",
      "Tweets 710000 of 966201 has been processed\n",
      "Tweets 720000 of 966201 has been processed\n",
      "Tweets 730000 of 966201 has been processed\n",
      "Tweets 740000 of 966201 has been processed\n",
      "Tweets 750000 of 966201 has been processed\n",
      "Tweets 760000 of 966201 has been processed\n",
      "Tweets 770000 of 966201 has been processed\n",
      "Tweets 780000 of 966201 has been processed\n",
      "Tweets 790000 of 966201 has been processed\n"
     ]
    },
    {
     "name": "stderr",
     "output_type": "stream",
     "text": [
      "/home/alizeb/.local/lib/python3.5/site-packages/bs4/__init__.py:282: UserWarning: \"http://wynterlord.tumblr.comÃÂÃÂÃÂÃÂÃÂÃÂÃÂÃÂÃÂÃÂÃÂÃÂÃÂÃÂÃÂÃÂ \n",
      "#panamapapers\n",
      "#444News\n",
      "#TravelTuesday\n",
      "#NoCaseToAnswer\n",
      "#NationalChampionshippic.twitter.com/I4D2aCijKg\" looks like a URL. Beautiful Soup is not an HTTP client. You should probably use an HTTP client like requests to get the document behind the URL, and feed that document to Beautiful Soup.\n",
      "  ' that document to Beautiful Soup.' % decoded_markup\n"
     ]
    },
    {
     "name": "stdout",
     "output_type": "stream",
     "text": [
      "Tweets 800000 of 966201 has been processed\n",
      "Tweets 810000 of 966201 has been processed\n",
      "Tweets 820000 of 966201 has been processed\n",
      "Tweets 830000 of 966201 has been processed\n",
      "Tweets 840000 of 966201 has been processed\n",
      "Tweets 850000 of 966201 has been processed\n",
      "Tweets 860000 of 966201 has been processed\n",
      "Tweets 870000 of 966201 has been processed\n",
      "Tweets 880000 of 966201 has been processed\n",
      "Tweets 890000 of 966201 has been processed\n",
      "Tweets 900000 of 966201 has been processed\n",
      "Tweets 910000 of 966201 has been processed\n",
      "Tweets 920000 of 966201 has been processed\n",
      "Tweets 930000 of 966201 has been processed\n",
      "Tweets 940000 of 966201 has been processed\n",
      "Tweets 950000 of 966201 has been processed\n"
     ]
    },
    {
     "name": "stderr",
     "output_type": "stream",
     "text": [
      "/home/alizeb/.local/lib/python3.5/site-packages/bs4/__init__.py:282: UserWarning: \"http://www.run3games.com/2017/08/chrome-dino-run-game.htmlÃÂÃÂÃÂÃÂÃÂÃÂÃÂÃÂ ÃÂÃÂÃÂÃÂ¢ÃÂÃÂÃÂÃÂÃÂÃÂÃÂÃÂ¦\n",
      "#ChNisar\n",
      "#TributeToRashidMinhas\n",
      "#DrRuthPfau\n",
      "#Dengue\n",
      "#pepsibattleofthebands\" looks like a URL. Beautiful Soup is not an HTTP client. You should probably use an HTTP client like requests to get the document behind the URL, and feed that document to Beautiful Soup.\n",
      "  ' that document to Beautiful Soup.' % decoded_markup\n"
     ]
    },
    {
     "name": "stdout",
     "output_type": "stream",
     "text": [
      "Tweets 960000 of 966201 has been processed\n"
     ]
    },
    {
     "name": "stderr",
     "output_type": "stream",
     "text": [
      "/home/alizeb/.local/lib/python3.5/site-packages/bs4/__init__.py:282: UserWarning: \"http://food.ndtv.com/opinions/how-to-prevent-and-treat-dengue-6-home-remedies-1212223ÃÂÃÂÃÂÃÂÃÂÃÂÃÂÃÂ ÃÂÃÂÃÂÃÂ¢ÃÂÃÂÃÂÃÂÃÂÃÂÃÂÃÂ¦\n",
      "#Treatment#dengue#homeremedies\" looks like a URL. Beautiful Soup is not an HTTP client. You should probably use an HTTP client like requests to get the document behind the URL, and feed that document to Beautiful Soup.\n",
      "  ' that document to Beautiful Soup.' % decoded_markup\n"
     ]
    },
    {
     "name": "stdout",
     "output_type": "stream",
     "text": [
      "CPU times: user 1min 53s, sys: 1.14 s, total: 1min 54s\n",
      "Wall time: 1min 54s\n"
     ]
    }
   ],
   "source": [
    "%%time\n",
    "print(\"Cleaning and parsing the tweets...\\n\") \n",
    "for i in range(nums[3],nums[5]):\n",
    "    if( (i+1)%10000 == 0 ):\n",
    "        print(\"Tweets %d of %d has been processed\" % ( i+1, nums[5] ))\n",
    "    clean_tweet_texts.append(tweet_cleaner(df['text'][i]))"
   ]
  },
  {
   "cell_type": "code",
   "execution_count": 53,
   "metadata": {},
   "outputs": [
    {
     "data": {
      "text/plain": [
       "966201"
      ]
     },
     "execution_count": 53,
     "metadata": {},
     "output_type": "execute_result"
    }
   ],
   "source": [
    "len(clean_tweet_texts)"
   ]
  },
  {
   "cell_type": "markdown",
   "metadata": {},
   "source": [
    "## Saving cleaned data as csv"
   ]
  },
  {
   "cell_type": "code",
   "execution_count": 54,
   "metadata": {},
   "outputs": [
    {
     "data": {
      "text/html": [
       "<div>\n",
       "<style scoped>\n",
       "    .dataframe tbody tr th:only-of-type {\n",
       "        vertical-align: middle;\n",
       "    }\n",
       "\n",
       "    .dataframe tbody tr th {\n",
       "        vertical-align: top;\n",
       "    }\n",
       "\n",
       "    .dataframe thead th {\n",
       "        text-align: right;\n",
       "    }\n",
       "</style>\n",
       "<table border=\"1\" class=\"dataframe\">\n",
       "  <thead>\n",
       "    <tr style=\"text-align: right;\">\n",
       "      <th></th>\n",
       "      <th>text</th>\n",
       "      <th>target</th>\n",
       "    </tr>\n",
       "  </thead>\n",
       "  <tbody>\n",
       "    <tr>\n",
       "      <th>0</th>\n",
       "      <td>people will give panamaverdict in na election ...</td>\n",
       "      <td>panama_verdict</td>\n",
       "    </tr>\n",
       "    <tr>\n",
       "      <th>1</th>\n",
       "      <td>u r just a barking dog where did panama expose...</td>\n",
       "      <td>panama_verdict</td>\n",
       "    </tr>\n",
       "    <tr>\n",
       "      <th>2</th>\n",
       "      <td>it is clear from maryam nawaz s bitter na camp...</td>\n",
       "      <td>panama_verdict</td>\n",
       "    </tr>\n",
       "    <tr>\n",
       "      <th>3</th>\n",
       "      <td>nab references triggered by panama verdict are...</td>\n",
       "      <td>panama_verdict</td>\n",
       "    </tr>\n",
       "    <tr>\n",
       "      <th>4</th>\n",
       "      <td>jaise motu gang k saath hua tha he didn t acce...</td>\n",
       "      <td>panama_verdict</td>\n",
       "    </tr>\n",
       "  </tbody>\n",
       "</table>\n",
       "</div>"
      ],
      "text/plain": [
       "                                                text          target\n",
       "0  people will give panamaverdict in na election ...  panama_verdict\n",
       "1  u r just a barking dog where did panama expose...  panama_verdict\n",
       "2  it is clear from maryam nawaz s bitter na camp...  panama_verdict\n",
       "3  nab references triggered by panama verdict are...  panama_verdict\n",
       "4  jaise motu gang k saath hua tha he didn t acce...  panama_verdict"
      ]
     },
     "execution_count": 54,
     "metadata": {},
     "output_type": "execute_result"
    }
   ],
   "source": [
    "clean_df = pd.DataFrame(clean_tweet_texts,columns=['text'])\n",
    "clean_df['target'] = df.category\n",
    "clean_df.head()"
   ]
  },
  {
   "cell_type": "code",
   "execution_count": 55,
   "metadata": {},
   "outputs": [],
   "source": [
    "clean_df.to_csv('../datasets/combined/data/all_tweets/clean_tweet.csv',encoding='utf-8',index=False)"
   ]
  },
  {
   "cell_type": "code",
   "execution_count": 56,
   "metadata": {},
   "outputs": [
    {
     "data": {
      "text/html": [
       "<div>\n",
       "<style scoped>\n",
       "    .dataframe tbody tr th:only-of-type {\n",
       "        vertical-align: middle;\n",
       "    }\n",
       "\n",
       "    .dataframe tbody tr th {\n",
       "        vertical-align: top;\n",
       "    }\n",
       "\n",
       "    .dataframe thead th {\n",
       "        text-align: right;\n",
       "    }\n",
       "</style>\n",
       "<table border=\"1\" class=\"dataframe\">\n",
       "  <thead>\n",
       "    <tr style=\"text-align: right;\">\n",
       "      <th></th>\n",
       "      <th>text</th>\n",
       "      <th>target</th>\n",
       "    </tr>\n",
       "  </thead>\n",
       "  <tbody>\n",
       "    <tr>\n",
       "      <th>0</th>\n",
       "      <td>people will give panamaverdict in na election ...</td>\n",
       "      <td>panama_verdict</td>\n",
       "    </tr>\n",
       "    <tr>\n",
       "      <th>1</th>\n",
       "      <td>u r just a barking dog where did panama expose...</td>\n",
       "      <td>panama_verdict</td>\n",
       "    </tr>\n",
       "    <tr>\n",
       "      <th>2</th>\n",
       "      <td>it is clear from maryam nawaz s bitter na camp...</td>\n",
       "      <td>panama_verdict</td>\n",
       "    </tr>\n",
       "    <tr>\n",
       "      <th>3</th>\n",
       "      <td>nab references triggered by panama verdict are...</td>\n",
       "      <td>panama_verdict</td>\n",
       "    </tr>\n",
       "    <tr>\n",
       "      <th>4</th>\n",
       "      <td>jaise motu gang k saath hua tha he didn t acce...</td>\n",
       "      <td>panama_verdict</td>\n",
       "    </tr>\n",
       "  </tbody>\n",
       "</table>\n",
       "</div>"
      ],
      "text/plain": [
       "                                                text          target\n",
       "0  people will give panamaverdict in na election ...  panama_verdict\n",
       "1  u r just a barking dog where did panama expose...  panama_verdict\n",
       "2  it is clear from maryam nawaz s bitter na camp...  panama_verdict\n",
       "3  nab references triggered by panama verdict are...  panama_verdict\n",
       "4  jaise motu gang k saath hua tha he didn t acce...  panama_verdict"
      ]
     },
     "execution_count": 56,
     "metadata": {},
     "output_type": "execute_result"
    }
   ],
   "source": [
    "csv = '../datasets/combined/data/all_tweets/clean_tweet.csv'\n",
    "my_df = pd.read_csv(csv)#,index_col=0)\n",
    "my_df.head()"
   ]
  },
  {
   "cell_type": "code",
   "execution_count": null,
   "metadata": {
    "collapsed": true
   },
   "outputs": [],
   "source": []
  }
 ],
 "metadata": {
  "kernelspec": {
   "display_name": "Python 3 (ipykernel)",
   "language": "python",
   "name": "python3"
  },
  "language_info": {
   "codemirror_mode": {
    "name": "ipython",
    "version": 3
   },
   "file_extension": ".py",
   "mimetype": "text/x-python",
   "name": "python",
   "nbconvert_exporter": "python",
   "pygments_lexer": "ipython3",
   "version": "3.9.13"
  }
 },
 "nbformat": 4,
 "nbformat_minor": 2
}
